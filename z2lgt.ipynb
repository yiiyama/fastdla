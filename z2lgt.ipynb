{
 "cells": [
  {
   "cell_type": "code",
   "execution_count": 1,
   "metadata": {},
   "outputs": [],
   "source": [
    "import sys\n",
    "sys.path.append('/home/iiyama/src/fastdla')\n",
    "import numpy as np\n",
    "import h5py\n",
    "from qiskit.quantum_info import SparsePauliOp\n",
    "from fastdla.dla import generate_dla, is_independent\n",
    "from fastdla.sparse_pauli_vector import SparsePauliVector\n",
    "from fastdla.ansatze.z2lgt_hva import z2lgt_hva_generators, z2lgt_gauss_projector, z2lgt_u1_projector, z2lgt_dense_projector"
   ]
  },
  {
   "cell_type": "code",
   "execution_count": 2,
   "metadata": {},
   "outputs": [],
   "source": [
    "data_file = '/data/iiyama/z2lgt_hva_dla.h5'"
   ]
  },
  {
   "cell_type": "markdown",
   "metadata": {},
   "source": [
    "## 2 Fermions"
   ]
  },
  {
   "cell_type": "code",
   "execution_count": 3,
   "metadata": {},
   "outputs": [],
   "source": [
    "num_fermions = 2\n",
    "# Determine the charge sector (symmetry subspace) to investigate\n",
    "gauss_eigvals = [1, -1, 1, -1]\n",
    "charge = 0"
   ]
  },
  {
   "cell_type": "code",
   "execution_count": 4,
   "metadata": {},
   "outputs": [
    {
     "data": {
      "text/plain": [
       "[SparsePauliVector(['IIIIIIIZ', 'IIIZIIII'], array([0.70710678+0.j, 0.70710678+0.j])),\n",
       " SparsePauliVector(['IIIIIZII', 'IZIIIIII'], array([0.70710678+0.j, 0.70710678+0.j])),\n",
       " SparsePauliVector(['IIIIIIXI', 'IIIIXIII', 'IIXIIIII', 'XIIIIIII'], array([0.5+0.j, 0.5+0.j, 0.5+0.j, 0.5+0.j])),\n",
       " SparsePauliVector(['IIIIIXZX', 'IIIIIYZY', 'IXZXIIII', 'IYZYIIII'], array([0.5+0.j, 0.5+0.j, 0.5+0.j, 0.5+0.j])),\n",
       " SparsePauliVector(['IIIXZXII', 'IIIYZYII', 'ZXIIIIIX', 'ZYIIIIIY'], array([0.5+0.j, 0.5+0.j, 0.5+0.j, 0.5+0.j]))]"
      ]
     },
     "execution_count": 4,
     "metadata": {},
     "output_type": "execute_result"
    }
   ],
   "source": [
    "# Full HVA generators\n",
    "generators_full = z2lgt_hva_generators(num_fermions)\n",
    "generators_full"
   ]
  },
  {
   "cell_type": "code",
   "execution_count": 5,
   "metadata": {},
   "outputs": [
    {
     "name": "stdout",
     "output_type": "stream",
     "text": [
      "Starting with 10 commutators..\n",
      "Evaluating 10/10 commutators for independence\n",
      "Adding 35 commutators; total 35\n",
      "Current DLA dimension: 10\n",
      "Evaluating 35/35 commutators for independence\n",
      "Adding 280 commutators; total 280\n",
      "Current DLA dimension: 26\n",
      "Evaluating 255/280 commutators for independence\n",
      "Adding 7178 commutators; total 7203\n",
      "Current DLA dimension: 123\n",
      "Evaluating 4528/7203 commutators for independence\n",
      "Adding 40702 commutators; total 43377\n",
      "Current DLA dimension: 311\n",
      "Evaluating 37471/43377 commutators for independence\n",
      "Current DLA dimension: 311\n",
      "Evaluating 5906/5906 commutators for independence\n",
      "Current DLA dimension: 311\n",
      "DLA dimension is 311\n"
     ]
    }
   ],
   "source": [
    "# Compute the DLA of the full space\n",
    "dla_full = generate_dla(generators_full, min_tasks=200, max_workers=54, verbosity=2)\n",
    "print(f'DLA dimension is {len(dla_full)}')"
   ]
  },
  {
   "cell_type": "code",
   "execution_count": 6,
   "metadata": {},
   "outputs": [],
   "source": [
    "# Projectors\n",
    "gauss_projector = z2lgt_gauss_projector(gauss_eigvals)\n",
    "u1_projector = z2lgt_u1_projector(num_fermions, charge)\n",
    "symm_projector = gauss_projector @ u1_projector\n",
    "# HVA generators and symmetry generators are simultaneously diagonalizable\n",
    "# -> HVA generators can be projected onto the symmetry subspace by one-side application of the\n",
    "# projectors. The resulting operators are the HVA generators in the subspace.\n",
    "generators = [(op @ symm_projector).normalize() for op in generators_full]"
   ]
  },
  {
   "cell_type": "code",
   "execution_count": 7,
   "metadata": {},
   "outputs": [
    {
     "name": "stdout",
     "output_type": "stream",
     "text": [
      "Hilbert subspace dimension is 12\n"
     ]
    }
   ],
   "source": [
    "# Check the dimensionality of the symmetry subspace\n",
    "dense_projector = z2lgt_dense_projector(gauss_eigvals, charge)\n",
    "print(f'Hilbert subspace dimension is {dense_projector.shape[0]}')"
   ]
  },
  {
   "cell_type": "code",
   "execution_count": 8,
   "metadata": {},
   "outputs": [
    {
     "name": "stdout",
     "output_type": "stream",
     "text": [
      "4 generators are independent\n"
     ]
    }
   ],
   "source": [
    "# Refine the generators list in case some are linearly dependent in the subspace\n",
    "generators_indep = [generators[0]]\n",
    "for gen in generators[1:]:\n",
    "    if is_independent(gen, generators_indep):\n",
    "        generators_indep.append(gen)\n",
    "print(f'{len(generators_indep)} generators are independent')"
   ]
  },
  {
   "cell_type": "code",
   "execution_count": 9,
   "metadata": {},
   "outputs": [
    {
     "name": "stdout",
     "output_type": "stream",
     "text": [
      "Starting with 6 commutators..\n",
      "Evaluating 6/6 commutators for independence\n",
      "Adding 30 commutators; total 30\n",
      "Current DLA dimension: 9\n",
      "Evaluating 30/30 commutators for independence\n",
      "Adding 264 commutators; total 264\n",
      "Current DLA dimension: 25\n",
      "Evaluating 217/264 commutators for independence\n",
      "Adding 1411 commutators; total 1458\n",
      "Current DLA dimension: 59\n",
      "Evaluating 342/1458 commutators for independence\n",
      "Adding 305 commutators; total 1421\n",
      "Current DLA dimension: 64\n",
      "Evaluating 1421/1421 commutators for independence\n",
      "Current DLA dimension: 64\n",
      "Subspace DLA dimension is 64\n"
     ]
    }
   ],
   "source": [
    "# Compute the DLA of the subspace\n",
    "dla = generate_dla(generators_indep, min_tasks=200, max_workers=54, verbosity=2)\n",
    "print(f'Subspace DLA dimension is {len(dla)}')"
   ]
  },
  {
   "cell_type": "code",
   "execution_count": 10,
   "metadata": {},
   "outputs": [],
   "source": [
    "with h5py.File(data_file, 'a') as out:\n",
    "    if 'nf=2' not in out:\n",
    "        nf_group = out.create_group('nf=2')\n",
    "        for gname, oplist in [\n",
    "            ('generators_full', generators_full),\n",
    "            ('dla_full', dla_full),\n",
    "            ('generators_symm0', generators_indep),\n",
    "            ('dla_symm0', dla)\n",
    "        ]:\n",
    "            group = nf_group.create_group(gname)\n",
    "            group.create_dataset('indices', data=np.concatenate([op.indices for op in oplist]))\n",
    "            group.create_dataset('coeffs', data=np.concatenate([op.coeffs for op in oplist]))\n",
    "            group.create_dataset('indptr', data=np.cumsum([0] + [op.num_terms for op in oplist]))\n",
    "\n",
    "        nf_group.create_dataset('dla_symm0/gauss_eigvals', data=gauss_eigvals)\n",
    "        nf_group.create_dataset('dla_symm0/charge', data=charge)"
   ]
  },
  {
   "cell_type": "markdown",
   "metadata": {},
   "source": [
    "## 3 Fermions"
   ]
  },
  {
   "cell_type": "code",
   "execution_count": 11,
   "metadata": {},
   "outputs": [],
   "source": [
    "num_fermions = 3\n",
    "# Determine the charge sector (symmetry subspace) to investigate\n",
    "gauss_eigvals = [1, -1, 1, -1, 1, -1]\n",
    "charge = 0"
   ]
  },
  {
   "cell_type": "code",
   "execution_count": 12,
   "metadata": {},
   "outputs": [
    {
     "data": {
      "text/plain": [
       "[SparsePauliVector(['IIIIIIIIIIIZ', 'IIIIIIIZIIII', 'IIIZIIIIIIII'], array([0.57735027+0.j, 0.57735027+0.j, 0.57735027+0.j])),\n",
       " SparsePauliVector(['IIIIIIIIIZII', 'IIIIIZIIIIII', 'IZIIIIIIIIII'], array([0.57735027+0.j, 0.57735027+0.j, 0.57735027+0.j])),\n",
       " SparsePauliVector(['IIIIIIIIIIXI', 'IIIIIIIIXIII', 'IIIIIIXIIIII', 'IIIIXIIIIIII', 'IIXIIIIIIIII', 'XIIIIIIIIIII'], array([0.40824829+0.j, 0.40824829+0.j, 0.40824829+0.j, 0.40824829+0.j,\n",
       "        0.40824829+0.j, 0.40824829+0.j])),\n",
       " SparsePauliVector(['IIIIIIIIIXZX', 'IIIIIIIIIYZY', 'IIIIIXZXIIII', 'IIIIIYZYIIII', 'IXZXIIIIIIII', 'IYZYIIIIIIII'], array([0.40824829+0.j, 0.40824829+0.j, 0.40824829+0.j, 0.40824829+0.j,\n",
       "        0.40824829+0.j, 0.40824829+0.j])),\n",
       " SparsePauliVector(['IIIIIIIXZXII', 'IIIIIIIYZYII', 'IIIXZXIIIIII', 'IIIYZYIIIIII', 'ZXIIIIIIIIIX', 'ZYIIIIIIIIIY'], array([0.40824829+0.j, 0.40824829+0.j, 0.40824829+0.j, 0.40824829+0.j,\n",
       "        0.40824829+0.j, 0.40824829+0.j]))]"
      ]
     },
     "execution_count": 12,
     "metadata": {},
     "output_type": "execute_result"
    }
   ],
   "source": [
    "# Full HVA generators\n",
    "generators_full = z2lgt_hva_generators(num_fermions)\n",
    "generators_full"
   ]
  },
  {
   "cell_type": "code",
   "execution_count": 13,
   "metadata": {},
   "outputs": [],
   "source": [
    "# Compute the DLA of the full space\n",
    "# dla_full = generate_dla(generators_full, min_tasks=100, max_workers=54, verbosity=3)\n",
    "# print(f'DLA dimension is {len(dla_full)}')"
   ]
  },
  {
   "cell_type": "code",
   "execution_count": 14,
   "metadata": {},
   "outputs": [],
   "source": [
    "# Projectors\n",
    "gauss_projector = z2lgt_gauss_projector(gauss_eigvals)\n",
    "u1_projector = z2lgt_u1_projector(num_fermions, charge)\n",
    "symm_projector = gauss_projector @ u1_projector\n",
    "# HVA generators and symmetry generators are simultaneously diagonalizable\n",
    "# -> HVA generators can be projected onto the symmetry subspace by one-side application of the\n",
    "# projectors. The resulting operators are the HVA generators in the subspace.\n",
    "generators = [(op @ symm_projector).normalize() for op in generators_full]"
   ]
  },
  {
   "cell_type": "code",
   "execution_count": 15,
   "metadata": {},
   "outputs": [
    {
     "name": "stdout",
     "output_type": "stream",
     "text": [
      "Hilbert subspace dimension is 40\n"
     ]
    }
   ],
   "source": [
    "# Check the dimensionality of the symmetry subspace\n",
    "dense_projector = z2lgt_dense_projector(gauss_eigvals, charge)\n",
    "print(f'Hilbert subspace dimension is {dense_projector.shape[0]}')"
   ]
  },
  {
   "cell_type": "code",
   "execution_count": 16,
   "metadata": {},
   "outputs": [
    {
     "name": "stdout",
     "output_type": "stream",
     "text": [
      "4 generators are independent\n"
     ]
    }
   ],
   "source": [
    "# Refine the generators list in case some are linearly dependent in the subspace\n",
    "generators_indep = [generators[0]]\n",
    "for gen in generators[1:]:\n",
    "    if is_independent(gen, generators_indep):\n",
    "        generators_indep.append(gen)\n",
    "print(f'{len(generators_indep)} generators are independent')"
   ]
  },
  {
   "cell_type": "code",
   "execution_count": null,
   "metadata": {},
   "outputs": [
    {
     "name": "stdout",
     "output_type": "stream",
     "text": [
      "Starting with 6 commutators..\n",
      "Evaluating 6/6 commutators for independence\n",
      "Adding 30 commutators; total 30\n",
      "Current DLA dimension: 9\n",
      "Evaluating 30/30 commutators for independence\n",
      "Adding 264 commutators; total 264\n",
      "Current DLA dimension: 25\n",
      "Evaluating 126/264 commutators for independence\n",
      "Adding 2703 commutators; total 2841\n",
      "Current DLA dimension: 78\n",
      "Evaluating 107/2841 commutators for independence\n",
      "Adding 4500 commutators; total 7234\n",
      "Current DLA dimension: 123\n",
      "Evaluating 114/7234 commutators for independence\n",
      "Adding 10833 commutators; total 17953\n",
      "Current DLA dimension: 192\n",
      "Evaluating 104/17953 commutators for independence\n",
      "Adding 13290 commutators; total 31139\n",
      "Current DLA dimension: 252\n",
      "Evaluating 103/31139 commutators for independence\n",
      "Adding 12330 commutators; total 43366\n",
      "Current DLA dimension: 297\n",
      "Evaluating 115/43366 commutators for independence\n",
      "Adding 10659 commutators; total 53910\n",
      "Current DLA dimension: 331\n",
      "Evaluating 113/53910 commutators for independence\n",
      "Adding 9646 commutators; total 63443\n",
      "Current DLA dimension: 359\n",
      "Evaluating 109/63443 commutators for independence\n",
      "Adding 5117 commutators; total 68451\n",
      "Current DLA dimension: 373\n",
      "Evaluating 112/68451 commutators for independence\n",
      "Adding 1875 commutators; total 70214\n",
      "Current DLA dimension: 378\n",
      "Evaluating 116/70214 commutators for independence\n",
      "Adding 1518 commutators; total 71616\n",
      "Current DLA dimension: 382\n",
      "Evaluating 137/71616 commutators for independence\n",
      "Adding 3474 commutators; total 74953\n",
      "Current DLA dimension: 391\n",
      "Evaluating 116/74953 commutators for independence\n",
      "Adding 783 commutators; total 75620\n",
      "Current DLA dimension: 393\n",
      "Evaluating 137/75620 commutators for independence\n",
      "Current DLA dimension: 393\n",
      "Evaluating 108/75483 commutators for independence\n",
      "Adding 393 commutators; total 75768\n",
      "Current DLA dimension: 394\n",
      "Evaluating 108/75768 commutators for independence\n",
      "Current DLA dimension: 394\n",
      "Evaluating 123/75660 commutators for independence\n",
      "Current DLA dimension: 394\n",
      "Evaluating 113/75537 commutators for independence\n",
      "Current DLA dimension: 394\n",
      "Evaluating 113/75424 commutators for independence\n",
      "Current DLA dimension: 394\n",
      "Evaluating 110/75311 commutators for independence\n",
      "Current DLA dimension: 394\n",
      "Evaluating 144/75201 commutators for independence\n",
      "Current DLA dimension: 394\n",
      "Evaluating 124/75057 commutators for independence\n",
      "Current DLA dimension: 394\n",
      "Evaluating 101/74933 commutators for independence\n",
      "Adding 1582 commutators; total 76414\n",
      "Current DLA dimension: 398\n",
      "Evaluating 104/76414 commutators for independence\n",
      "Current DLA dimension: 398\n",
      "Evaluating 105/76310 commutators for independence\n",
      "Current DLA dimension: 398\n",
      "Evaluating 101/76205 commutators for independence\n",
      "Current DLA dimension: 398\n",
      "Evaluating 111/76104 commutators for independence\n",
      "Current DLA dimension: 398\n",
      "Evaluating 106/75993 commutators for independence\n",
      "Current DLA dimension: 398\n",
      "Evaluating 117/75887 commutators for independence\n",
      "Current DLA dimension: 398\n",
      "Evaluating 109/75770 commutators for independence\n",
      "Current DLA dimension: 398\n",
      "Evaluating 114/75661 commutators for independence\n",
      "Current DLA dimension: 398\n",
      "Evaluating 102/75547 commutators for independence\n",
      "Current DLA dimension: 398\n",
      "Evaluating 102/75445 commutators for independence\n",
      "Current DLA dimension: 398\n",
      "Evaluating 101/75343 commutators for independence\n",
      "Current DLA dimension: 398\n",
      "Evaluating 107/75242 commutators for independence\n",
      "Current DLA dimension: 398\n",
      "Evaluating 107/75135 commutators for independence\n",
      "Current DLA dimension: 398\n",
      "Evaluating 105/75028 commutators for independence\n",
      "Current DLA dimension: 398\n",
      "Evaluating 111/74923 commutators for independence\n",
      "Current DLA dimension: 398\n",
      "Evaluating 110/74812 commutators for independence\n",
      "Current DLA dimension: 398\n",
      "Evaluating 103/74702 commutators for independence\n",
      "Current DLA dimension: 398\n",
      "Evaluating 119/74599 commutators for independence\n",
      "Current DLA dimension: 398\n",
      "Evaluating 101/74480 commutators for independence\n",
      "Current DLA dimension: 398\n",
      "Evaluating 105/74379 commutators for independence\n",
      "Current DLA dimension: 398\n",
      "Evaluating 110/74274 commutators for independence\n",
      "Current DLA dimension: 398\n",
      "Evaluating 101/74164 commutators for independence\n",
      "Current DLA dimension: 398\n",
      "Evaluating 116/74063 commutators for independence\n",
      "Current DLA dimension: 398\n",
      "Evaluating 104/73947 commutators for independence\n",
      "Current DLA dimension: 398\n",
      "Evaluating 106/73843 commutators for independence\n",
      "Current DLA dimension: 398\n",
      "Evaluating 109/73737 commutators for independence\n",
      "Current DLA dimension: 398\n",
      "Evaluating 102/73628 commutators for independence\n",
      "Current DLA dimension: 398\n",
      "Evaluating 103/73526 commutators for independence\n",
      "Current DLA dimension: 398\n",
      "Evaluating 106/73423 commutators for independence\n",
      "Adding 797 commutators; total 74114\n",
      "Current DLA dimension: 400\n",
      "Evaluating 106/74114 commutators for independence\n",
      "Adding 4866 commutators; total 78874\n",
      "Current DLA dimension: 412\n",
      "Evaluating 119/78874 commutators for independence\n",
      "Adding 3744 commutators; total 82499\n",
      "Current DLA dimension: 421\n",
      "Evaluating 105/82499 commutators for independence\n",
      "Adding 2541 commutators; total 84935\n",
      "Current DLA dimension: 427\n",
      "Evaluating 102/84935 commutators for independence\n",
      "Adding 2145 commutators; total 86978\n",
      "Current DLA dimension: 432\n",
      "Evaluating 108/86978 commutators for independence\n",
      "Adding 1299 commutators; total 88169\n",
      "Current DLA dimension: 435\n",
      "Evaluating 109/88169 commutators for independence\n",
      "Adding 2625 commutators; total 90685\n",
      "Current DLA dimension: 441\n",
      "Evaluating 126/90685 commutators for independence\n",
      "Adding 3108 commutators; total 93667\n",
      "Current DLA dimension: 448\n",
      "Evaluating 110/93667 commutators for independence\n",
      "Adding 1798 commutators; total 95355\n",
      "Current DLA dimension: 452\n",
      "Evaluating 106/95355 commutators for independence\n",
      "Adding 3185 commutators; total 98434\n",
      "Current DLA dimension: 459\n",
      "Evaluating 108/98434 commutators for independence\n"
     ]
    }
   ],
   "source": [
    "# Compute the DLA of the subspace\n",
    "dla = generate_dla(generators_indep, verbosity=2, min_tasks=200, max_workers=54)\n",
    "print(f'Subspace DLA dimension is {len(dla)}')"
   ]
  },
  {
   "cell_type": "code",
   "execution_count": null,
   "metadata": {},
   "outputs": [],
   "source": [
    "with h5py.File(data_file, 'a') as out:\n",
    "    if 'nf=3' not in out:\n",
    "        nf_group = out.create_group('nf=3')\n",
    "        for gname, oplist in [\n",
    "            ('generators_full', generators_full),\n",
    "            # ('dla_full', dla_full),\n",
    "            ('generators_symm0', generators_indep),\n",
    "            ('dla_symm0', dla)\n",
    "        ]:\n",
    "            group = nf_group.create_group(gname)\n",
    "            group.create_dataset('indices', data=np.concatenate([op.indices for op in oplist]))\n",
    "            group.create_dataset('coeffs', data=np.concatenate([op.coeffs for op in oplist]))\n",
    "            group.create_dataset('indptr', data=np.cumsum([0] + [op.num_terms for op in oplist]))\n",
    "\n",
    "        nf_group.create_dataset('dla_symm0/gauss_eigvals', data=gauss_eigvals)\n",
    "        nf_group.create_dataset('dla_symm0/charge', data=charge)"
   ]
  },
  {
   "cell_type": "code",
   "execution_count": null,
   "metadata": {},
   "outputs": [],
   "source": []
  }
 ],
 "metadata": {
  "kernelspec": {
   "display_name": "Python 3 (ipykernel)",
   "language": "python",
   "name": "python3"
  },
  "language_info": {
   "codemirror_mode": {
    "name": "ipython",
    "version": 3
   },
   "file_extension": ".py",
   "mimetype": "text/x-python",
   "name": "python",
   "nbconvert_exporter": "python",
   "pygments_lexer": "ipython3",
   "version": "3.10.12"
  }
 },
 "nbformat": 4,
 "nbformat_minor": 2
}
