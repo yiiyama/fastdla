{
 "cells": [
  {
   "cell_type": "code",
   "execution_count": 1,
   "metadata": {},
   "outputs": [],
   "source": [
    "import sys\n",
    "sys.path.append('/home/iiyama/src/fastdla')\n",
    "from collections.abc import Sequence\n",
    "import numpy as np\n",
    "from fastdla.dla import generate_dla, is_independent\n",
    "from fastdla.sparse_pauli_vector import SparsePauliVector"
   ]
  },
  {
   "cell_type": "code",
   "execution_count": 2,
   "metadata": {},
   "outputs": [],
   "source": [
    "def z2lgt_hva_generators(num_fermions: int) -> list[SparsePauliVector]:\n",
    "    \"\"\"Construct generators of the HVA for the Z2 LGT model for the given number of staggered\n",
    "    fermions.\"\"\"\n",
    "    num_qubits = 4 * num_fermions\n",
    "\n",
    "    generators = []\n",
    "\n",
    "    # Mass terms Z_{n}\n",
    "    for parity in [0, 1]:\n",
    "        strings = ['I' * (num_qubits - isite * 2 - 1) + 'Z' + 'I' * (isite * 2)\n",
    "                   for isite in range(parity, 2 * num_fermions, 2)]\n",
    "        coeffs = np.ones(len(strings)) / np.sqrt(len(strings))\n",
    "        generators.append(SparsePauliVector(strings, coeffs))\n",
    "\n",
    "    # Field term X_{n,n+1}\n",
    "    strings = ['I' * (num_qubits - iq - 1) + 'X' + 'I' * iq for iq in range(1, num_qubits, 2)]\n",
    "    coeffs = np.ones(len(strings)) / np.sqrt(len(strings))\n",
    "    generators.append(SparsePauliVector(strings, coeffs))\n",
    "\n",
    "    # Hopping terms X_{n}Z_{n,n+1}X_{n+1} + Y_{n}Z_{n,n+1}Y_{n+1}\n",
    "    for parity in [0, 1]:\n",
    "        strings = []\n",
    "        for isite in range(parity, 2 * num_fermions, 2):\n",
    "            for site_op in ['X', 'Y']:\n",
    "                paulis = ['I'] * num_qubits\n",
    "                paulis[isite * 2] = site_op\n",
    "                paulis[isite * 2 + 1] = 'Z'\n",
    "                paulis[(isite * 2 + 2) % num_qubits] = site_op\n",
    "                strings.append(''.join(paulis[::-1]))\n",
    "        coeffs = np.ones(len(strings)) / np.sqrt(len(strings))\n",
    "        generators.append(SparsePauliVector(strings, coeffs))\n",
    "\n",
    "    return generators\n"
   ]
  },
  {
   "cell_type": "code",
   "execution_count": 3,
   "metadata": {},
   "outputs": [],
   "source": [
    "def z2lgt_gauss_projector(charges: Sequence[int]) -> SparsePauliVector:\n",
    "    \"\"\"Construct the Gauss's law projectors for the Z2 LGT model.\n",
    "\n",
    "    Physical states of the Z2 LGT model must be eigenstates of G_n = X_{n-1,n}Z_{n}X_{n1,n+1}. Given\n",
    "    an eigenvalue for each G_n, we can construct projector to its subspace as a sum of Pauli ops.\n",
    "    The overall projector will then be a product of all such projectors.\n",
    "    \"\"\"\n",
    "    if len(charges) % 2 or not all(abs(ev) == 1 for ev in charges):\n",
    "        raise ValueError('There must be an even number of charges with values +-1')\n",
    "\n",
    "    num_fermions = len(charges) // 2\n",
    "    num_qubits = 4 * num_fermions\n",
    "\n",
    "    projector = SparsePauliVector('I' * num_qubits, 1.)\n",
    "    for isite, ev in enumerate(charges):\n",
    "        if ev > 0:\n",
    "            # +0+ -1+ -0- +1- with +/-=1/2(I±X) and 0/1=1/2(I±Z)\n",
    "            # From\n",
    "            # np.sum([\n",
    "            #     np.kron(np.kron([1, 1], [1, 1]), [1, 1]),\n",
    "            #     np.kron(np.kron([1, -1], [1, -1]), [1, 1]),\n",
    "            #     np.kron(np.kron([1, -1], [1, 1]), [1, -1]),\n",
    "            #     np.kron(np.kron([1, 1], [1, -1]), [1, -1])\n",
    "            # ]) / 8\n",
    "            # we get array([0.5, 0, 0, 0, 0, 0, 0, 0.5]) -> 1/2(III + XZX)\n",
    "\n",
    "            coeffs = [0.5, 0.5]\n",
    "        else:\n",
    "            # -1- +0- +1+ -0+ with +/-=1/2(I±X) and 0/1=1/2(I±Z)\n",
    "            # From\n",
    "            # np.sum([\n",
    "            #     np.kron(np.kron([1, 1], [1, 1]), [1, 1]),\n",
    "            #     np.kron(np.kron([1, -1], [1, -1]), [1, 1]),\n",
    "            #     np.kron(np.kron([1, -1], [1, 1]), [1, -1]),\n",
    "            #     np.kron(np.kron([1, 1], [1, -1]), [1, -1])\n",
    "            # ]) / 8\n",
    "            # we get array([0.5, 0, 0, 0, 0, 0, 0, -0.5]) -> 1/2(III - XZX)\n",
    "            coeffs = [0.5, -0.5]\n",
    "        strings = ['I' * num_qubits]\n",
    "        paulis = ['I'] * num_qubits\n",
    "        paulis[-isite * 2] = 'X'\n",
    "        paulis[-isite * 2 - 1] = 'Z'\n",
    "        paulis[-((isite * 2 + 2) % num_qubits)] = 'X'\n",
    "        strings.append(''.join(paulis))\n",
    "        projector = projector @ SparsePauliVector(strings, coeffs)\n",
    "\n",
    "    return projector"
   ]
  },
  {
   "cell_type": "code",
   "execution_count": 4,
   "metadata": {},
   "outputs": [],
   "source": [
    "def z2lgt_u1_projector(num_fermions: int, charge: int) -> SparsePauliVector:\n",
    "    \"\"\"Construct the charge conservation law projector for the Z2 LGT model.\n",
    "\n",
    "    Physical states of the Z2 LGT model must be eigenstates of Q = ∑_n Z_n where n runs over\n",
    "    staggered fermions (even n: particle, odd n: antiparticle). For a fermion number F and an\n",
    "    overall charge q ∈ [-2F,...,2F], we have a 2F C (F+q/2) -dimensional eigenspace.\n",
    "    \"\"\"\n",
    "    if abs(charge) > (num_sites := 2 * num_fermions) or charge % 2 != 0:\n",
    "        raise ValueError('Invalid charge value')\n",
    "\n",
    "    # Diagonals=eigenvalues of the symmetry generator\n",
    "    eigvals = np.zeros((2,) * num_sites, dtype=int)\n",
    "    z = np.array([1, -1])\n",
    "    for isite in range(num_sites):\n",
    "        eigvals += np.expand_dims(z, tuple(range(isite)) + tuple(range(isite + 1, num_sites)))\n",
    "    eigvals = eigvals.reshape(-1)\n",
    "    # State indices with the given charge\n",
    "    states = np.nonzero(eigvals == charge)[0]\n",
    "    # Binary representations of the indices\n",
    "    states_binary = (states[:, None] >> np.arange(num_sites)[None, ::-1]) % 2\n",
    "    # |0><0|=1/2(I+Z), |1><1|=1/2(I-Z) -> Coefficients of I and Z for each binary digit\n",
    "    # Example: [0, 1] -> [[1, 1], [1, -1]]\n",
    "    states_iz = np.array([[1, 1], [1, -1]])[states_binary]\n",
    "    # Take the kronecker products of the I/Z coefficients using einsum, then sum over the states to\n",
    "    # arrive at the final sparse Pauli representation of the projector\n",
    "    args = ()\n",
    "    for isite in range(num_sites):\n",
    "        args += (states_iz[:, isite], [0, isite + 1])\n",
    "    args += (list(range(num_sites + 1)),)\n",
    "    coeffs = np.sum(np.einsum(*args).reshape(states.shape[0], 2 ** num_sites), axis=0)\n",
    "    # Take only the nonzero Paulis\n",
    "    pauli_indices = np.nonzero(coeffs)[0]\n",
    "    coeffs = coeffs[pauli_indices] / (2 ** num_sites)\n",
    "    paulis = []\n",
    "    for idx in pauli_indices:\n",
    "        idx_bin = np.zeros((num_sites, 2), dtype=int)\n",
    "        idx_bin[:, 1] = (idx >> np.arange(num_sites)[::-1]) % 2\n",
    "        paulis.append(''.join('IZ'[i] for i in idx_bin.reshape(-1)))\n",
    "\n",
    "    return SparsePauliVector(paulis, coeffs)"
   ]
  },
  {
   "cell_type": "code",
   "execution_count": 5,
   "metadata": {},
   "outputs": [],
   "source": [
    "# Determine the charge sector (symmetry subspace) to investigate\n",
    "charges = [1, -1, 1, -1]\n",
    "num_fermions = len(charges) // 2\n",
    "# Full HVA generators\n",
    "generators_full = z2lgt_hva_generators(num_fermions)\n"
   ]
  },
  {
   "cell_type": "code",
   "execution_count": 6,
   "metadata": {},
   "outputs": [
    {
     "data": {
      "text/plain": [
       "[SparsePauliVector(['IIIIIIIZ', 'IIIZIIII'], array([0.70710678+0.j, 0.70710678+0.j])),\n",
       " SparsePauliVector(['IIIIIZII', 'IZIIIIII'], array([0.70710678+0.j, 0.70710678+0.j])),\n",
       " SparsePauliVector(['IIIIIIXI', 'IIIIXIII', 'IIXIIIII', 'XIIIIIII'], array([0.5+0.j, 0.5+0.j, 0.5+0.j, 0.5+0.j])),\n",
       " SparsePauliVector(['IIIIIXZX', 'IIIIIYZY', 'IXZXIIII', 'IYZYIIII'], array([0.5+0.j, 0.5+0.j, 0.5+0.j, 0.5+0.j])),\n",
       " SparsePauliVector(['IIIXZXII', 'IIIYZYII', 'ZXIIIIIX', 'ZYIIIIIY'], array([0.5+0.j, 0.5+0.j, 0.5+0.j, 0.5+0.j]))]"
      ]
     },
     "execution_count": 6,
     "metadata": {},
     "output_type": "execute_result"
    }
   ],
   "source": [
    "generators_full"
   ]
  },
  {
   "cell_type": "code",
   "execution_count": 7,
   "metadata": {},
   "outputs": [
    {
     "name": "stdout",
     "output_type": "stream",
     "text": [
      "Current DLA dimension: 10\n",
      "Current DLA dimension: 23\n",
      "Current DLA dimension: 103\n",
      "Current DLA dimension: 209\n",
      "Current DLA dimension: 311\n",
      "DLA dimension is 311\n"
     ]
    }
   ],
   "source": [
    "# Compute the DLA of the full space\n",
    "dla_full = generate_dla(generators_full, verbosity=1)\n",
    "print(f'DLA dimension is {len(dla_full)}')"
   ]
  },
  {
   "cell_type": "code",
   "execution_count": 8,
   "metadata": {},
   "outputs": [],
   "source": [
    "# Projectors\n",
    "gauss_projector = z2lgt_gauss_projector(charges)\n",
    "u1_projector = z2lgt_u1_projector(num_fermions, sum(charges))\n",
    "symm_projector = gauss_projector @ u1_projector\n",
    "# HVA generators and symmetry generators are simultaneously diagonalizable\n",
    "# -> HVA generators can be projected onto the symmetry subspace by one-side application of the\n",
    "# projectors. The resulting operators are the HVA generators in the subspace.\n",
    "generators = [(op @ symm_projector).normalize() for op in generators_full]"
   ]
  },
  {
   "cell_type": "code",
   "execution_count": 9,
   "metadata": {},
   "outputs": [
    {
     "name": "stdout",
     "output_type": "stream",
     "text": [
      "Hilbert subspace dimension is 12\n"
     ]
    }
   ],
   "source": [
    "# Check the dimensionality of the symmetry subspace\n",
    "proj_eigvals = np.linalg.eigh(symm_projector.to_matrix()).eigenvalues\n",
    "print(f'Hilbert subspace dimension is {np.nonzero(np.isclose(proj_eigvals, 1.))[0].shape[0]}')"
   ]
  },
  {
   "cell_type": "code",
   "execution_count": 10,
   "metadata": {},
   "outputs": [
    {
     "name": "stdout",
     "output_type": "stream",
     "text": [
      "4 generators are independent\n"
     ]
    }
   ],
   "source": [
    "# Refine the generators list in case some are linearly dependent in the subspace\n",
    "generators_indep = [generators[0]]\n",
    "for gen in generators[1:]:\n",
    "    if is_independent(gen, generators_indep):\n",
    "        generators_indep.append(gen)\n",
    "print(f'{len(generators_indep)} generators are independent')"
   ]
  },
  {
   "cell_type": "code",
   "execution_count": 11,
   "metadata": {},
   "outputs": [
    {
     "name": "stdout",
     "output_type": "stream",
     "text": [
      "Current DLA dimension: 5\n",
      "Current DLA dimension: 8\n",
      "Current DLA dimension: 15\n",
      "Current DLA dimension: 33\n",
      "Current DLA dimension: 49\n",
      "Current DLA dimension: 52\n",
      "Current DLA dimension: 53\n",
      "Current DLA dimension: 55\n",
      "Current DLA dimension: 60\n",
      "Current DLA dimension: 63\n",
      "Current DLA dimension: 64\n",
      "Subspace DLA dimension is 64\n"
     ]
    }
   ],
   "source": [
    "# Compute the DLA of the subspace\n",
    "dla = generate_dla(generators_indep, verbosity=1)\n",
    "print(f'Subspace DLA dimension is {len(dla)}')"
   ]
  },
  {
   "cell_type": "code",
   "execution_count": null,
   "metadata": {},
   "outputs": [],
   "source": []
  }
 ],
 "metadata": {
  "kernelspec": {
   "display_name": "Python 3 (ipykernel)",
   "language": "python",
   "name": "python3"
  },
  "language_info": {
   "codemirror_mode": {
    "name": "ipython",
    "version": 3
   },
   "file_extension": ".py",
   "mimetype": "text/x-python",
   "name": "python",
   "nbconvert_exporter": "python",
   "pygments_lexer": "ipython3",
   "version": "3.10.12"
  }
 },
 "nbformat": 4,
 "nbformat_minor": 2
}
