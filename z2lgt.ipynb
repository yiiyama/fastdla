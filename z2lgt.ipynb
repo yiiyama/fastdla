{
 "cells": [
  {
   "cell_type": "markdown",
   "metadata": {},
   "source": [
    "# DLA for Z2 lattice gauge theory Hamiltonian variational ansatz (sparse implementation)"
   ]
  },
  {
   "cell_type": "code",
   "execution_count": 1,
   "metadata": {},
   "outputs": [],
   "source": [
    "import numpy as np\n",
    "import h5py\n",
    "from fastdla.dla import generate_dla, is_independent\n",
    "from fastdla.ansatze.z2lgt_hva import (z2lgt_hva_generators, z2lgt_gauss_projector,\n",
    "                                       z2lgt_u1_projector, z2lgt_dense_projector)"
   ]
  },
  {
   "cell_type": "code",
   "execution_count": 2,
   "metadata": {},
   "outputs": [],
   "source": [
    "data_file = 'z2lgt_hva_dla.h5'"
   ]
  },
  {
   "cell_type": "markdown",
   "metadata": {},
   "source": [
    "## 2 Fermions"
   ]
  },
  {
   "cell_type": "code",
   "execution_count": 3,
   "metadata": {},
   "outputs": [],
   "source": [
    "num_fermions = 2\n",
    "# Determine the charge sector (symmetry subspace) to investigate\n",
    "gauss_eigvals = [1, -1, 1, -1]\n",
    "charge = 0"
   ]
  },
  {
   "cell_type": "code",
   "execution_count": null,
   "metadata": {},
   "outputs": [],
   "source": [
    "# Full HVA generators\n",
    "generators_full = z2lgt_hva_generators(num_fermions)\n",
    "generators_full"
   ]
  },
  {
   "cell_type": "code",
   "execution_count": null,
   "metadata": {},
   "outputs": [],
   "source": [
    "# Compute the DLA of the full space\n",
    "dla_full = generate_dla(generators_full, min_tasks=200, max_workers=54, verbosity=2)\n",
    "print(f'DLA dimension is {len(dla_full)}')"
   ]
  },
  {
   "cell_type": "code",
   "execution_count": 5,
   "metadata": {},
   "outputs": [],
   "source": [
    "# Projectors\n",
    "gauss_projector = z2lgt_gauss_projector(gauss_eigvals)\n",
    "u1_projector = z2lgt_u1_projector(num_fermions, charge)\n",
    "symm_projector = gauss_projector @ u1_projector\n",
    "# HVA generators and symmetry generators are simultaneously diagonalizable\n",
    "# -> HVA generators can be projected onto the symmetry subspace by one-side application of the\n",
    "# projectors. The resulting operators are the HVA generators in the subspace.\n",
    "generators = [(op @ symm_projector).normalize() for op in generators_full]"
   ]
  },
  {
   "cell_type": "code",
   "execution_count": null,
   "metadata": {},
   "outputs": [],
   "source": [
    "# Check the dimensionality of the symmetry subspace\n",
    "dense_projector = z2lgt_dense_projector(gauss_eigvals, charge)\n",
    "print(f'Hilbert subspace dimension is {dense_projector.shape[0]}')"
   ]
  },
  {
   "cell_type": "code",
   "execution_count": null,
   "metadata": {},
   "outputs": [],
   "source": [
    "# Refine the generators list in case some are linearly dependent in the subspace\n",
    "generators_indep = [generators[0]]\n",
    "for gen in generators[1:]:\n",
    "    if is_independent(gen, generators_indep):\n",
    "        generators_indep.append(gen)\n",
    "print(f'{len(generators_indep)} generators are independent')"
   ]
  },
  {
   "cell_type": "code",
   "execution_count": null,
   "metadata": {},
   "outputs": [],
   "source": [
    "# Compute the DLA of the subspace\n",
    "dla = generate_dla(generators_indep, min_tasks=200, max_workers=54, verbosity=2)\n",
    "print(f'Subspace DLA dimension is {len(dla)}')"
   ]
  },
  {
   "cell_type": "code",
   "execution_count": 10,
   "metadata": {},
   "outputs": [],
   "source": [
    "with h5py.File(data_file, 'a') as out:\n",
    "    if 'nf=2' not in out:\n",
    "        nf_group = out.create_group('nf=2')\n",
    "        for gname, oplist in [\n",
    "            ('generators_full', generators_full),\n",
    "            ('dla_full', dla_full),\n",
    "            ('generators_symm0', generators_indep),\n",
    "            ('dla_symm0', dla)\n",
    "        ]:\n",
    "            group = nf_group.create_group(gname)\n",
    "            group.create_dataset('indices', data=np.concatenate([op.indices for op in oplist]))\n",
    "            group.create_dataset('coeffs', data=np.concatenate([op.coeffs for op in oplist]))\n",
    "            group.create_dataset('indptr', data=np.cumsum([0] + [op.num_terms for op in oplist]))\n",
    "\n",
    "        nf_group.create_dataset('dla_symm0/gauss_eigvals', data=gauss_eigvals)\n",
    "        nf_group.create_dataset('dla_symm0/charge', data=charge)"
   ]
  },
  {
   "cell_type": "markdown",
   "metadata": {},
   "source": [
    "## 3 Fermions"
   ]
  },
  {
   "cell_type": "code",
   "execution_count": 11,
   "metadata": {},
   "outputs": [],
   "source": [
    "num_fermions = 3\n",
    "# Determine the charge sector (symmetry subspace) to investigate\n",
    "gauss_eigvals = [1, -1, 1, -1, 1, -1]\n",
    "charge = 0"
   ]
  },
  {
   "cell_type": "code",
   "execution_count": null,
   "metadata": {},
   "outputs": [],
   "source": [
    "# Full HVA generators\n",
    "generators_full = z2lgt_hva_generators(num_fermions)\n",
    "generators_full"
   ]
  },
  {
   "cell_type": "code",
   "execution_count": 13,
   "metadata": {},
   "outputs": [],
   "source": [
    "# Compute the DLA of the full space\n",
    "# dla_full = generate_dla(generators_full, min_tasks=100, max_workers=54, verbosity=3)\n",
    "# print(f'DLA dimension is {len(dla_full)}')"
   ]
  },
  {
   "cell_type": "code",
   "execution_count": 14,
   "metadata": {},
   "outputs": [],
   "source": [
    "# Projectors\n",
    "gauss_projector = z2lgt_gauss_projector(gauss_eigvals)\n",
    "u1_projector = z2lgt_u1_projector(num_fermions, charge)\n",
    "symm_projector = gauss_projector @ u1_projector\n",
    "# HVA generators and symmetry generators are simultaneously diagonalizable\n",
    "# -> HVA generators can be projected onto the symmetry subspace by one-side application of the\n",
    "# projectors. The resulting operators are the HVA generators in the subspace.\n",
    "generators = [(op @ symm_projector).normalize() for op in generators_full]"
   ]
  },
  {
   "cell_type": "code",
   "execution_count": null,
   "metadata": {},
   "outputs": [],
   "source": [
    "# Check the dimensionality of the symmetry subspace\n",
    "dense_projector = z2lgt_dense_projector(gauss_eigvals, charge)\n",
    "print(f'Hilbert subspace dimension is {dense_projector.shape[0]}')"
   ]
  },
  {
   "cell_type": "code",
   "execution_count": null,
   "metadata": {},
   "outputs": [],
   "source": [
    "# Refine the generators list in case some are linearly dependent in the subspace\n",
    "generators_indep = [generators[0]]\n",
    "for gen in generators[1:]:\n",
    "    if is_independent(gen, generators_indep):\n",
    "        generators_indep.append(gen)\n",
    "print(f'{len(generators_indep)} generators are independent')"
   ]
  },
  {
   "cell_type": "code",
   "execution_count": null,
   "metadata": {},
   "outputs": [],
   "source": [
    "# Compute the DLA of the subspace\n",
    "dla = generate_dla(generators_indep, verbosity=2, min_tasks=200, max_workers=54)\n",
    "print(f'Subspace DLA dimension is {len(dla)}')"
   ]
  },
  {
   "cell_type": "code",
   "execution_count": null,
   "metadata": {},
   "outputs": [],
   "source": [
    "with h5py.File(data_file, 'a') as out:\n",
    "    if 'nf=3' not in out:\n",
    "        nf_group = out.create_group('nf=3')\n",
    "        for gname, oplist in [\n",
    "            ('generators_full', generators_full),\n",
    "            # ('dla_full', dla_full),\n",
    "            ('generators_symm0', generators_indep),\n",
    "            ('dla_symm0', dla)\n",
    "        ]:\n",
    "            group = nf_group.create_group(gname)\n",
    "            group.create_dataset('indices', data=np.concatenate([op.indices for op in oplist]))\n",
    "            group.create_dataset('coeffs', data=np.concatenate([op.coeffs for op in oplist]))\n",
    "            group.create_dataset('indptr', data=np.cumsum([0] + [op.num_terms for op in oplist]))\n",
    "\n",
    "        nf_group.create_dataset('dla_symm0/gauss_eigvals', data=gauss_eigvals)\n",
    "        nf_group.create_dataset('dla_symm0/charge', data=charge)"
   ]
  },
  {
   "cell_type": "code",
   "execution_count": null,
   "metadata": {},
   "outputs": [],
   "source": []
  }
 ],
 "metadata": {
  "kernelspec": {
   "display_name": "Python 3 (ipykernel)",
   "language": "python",
   "name": "python3"
  }
 },
 "nbformat": 4,
 "nbformat_minor": 2
}
