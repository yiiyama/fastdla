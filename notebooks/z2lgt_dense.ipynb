{
 "cells": [
  {
   "cell_type": "markdown",
   "metadata": {},
   "source": [
    "# DLA for Z2 lattice gauge theory Hamiltonian variational ansatz (dense implementation)"
   ]
  },
  {
   "cell_type": "code",
   "execution_count": 1,
   "metadata": {},
   "outputs": [],
   "source": [
    "import os\n",
    "os.environ['CUDA_VISIBLE_DEVICES'] = '2'\n",
    "import numpy as np\n",
    "import h5py\n",
    "from qiskit.quantum_info import SparsePauliOp\n",
    "from fastdla.dla_dense import generate_dla, is_independent\n",
    "from fastdla.dladim_dense import count_dla_dim\n",
    "from fastdla.ansatze.z2lgt_hva import z2lgt_hva_generators, z2lgt_dense_projector\n",
    "import jax\n",
    "jax.config.update('jax_enable_x64', True)\n",
    "import jax.numpy as jnp\n"
   ]
  },
  {
   "cell_type": "code",
   "execution_count": 2,
   "metadata": {},
   "outputs": [],
   "source": [
    "data_file = 'z2lgt_hva_dla_dense.h5'"
   ]
  },
  {
   "cell_type": "markdown",
   "metadata": {},
   "source": [
    "## 2 Fermions"
   ]
  },
  {
   "cell_type": "code",
   "execution_count": 3,
   "metadata": {},
   "outputs": [],
   "source": [
    "num_fermions = 2\n",
    "# Determine the charge sector (symmetry subspace) to investigate\n",
    "gauss_eigvals = [1, -1, 1, -1]\n",
    "charge = 0"
   ]
  },
  {
   "cell_type": "code",
   "execution_count": null,
   "metadata": {},
   "outputs": [],
   "source": [
    "# Full HVA generators\n",
    "generators_full = z2lgt_hva_generators(num_fermions)\n",
    "generators_full\n"
   ]
  },
  {
   "cell_type": "code",
   "execution_count": null,
   "metadata": {},
   "outputs": [],
   "source": [
    "# Projector\n",
    "dense_projector = z2lgt_dense_projector(gauss_eigvals, charge, npmod=jnp)\n",
    "print(f'Hilbert subspace dimension is {dense_projector.shape[0]}')\n",
    "csrs = [SparsePauliOp(op.paulis, op.coeffs).to_matrix(sparse=True) for op in generators_full]\n",
    "generators = [dense_projector @ mat.dot(dense_projector.conjugate().T) for mat in csrs]\n",
    "generators = [op / np.sqrt(np.abs(np.trace(op.conjugate().T @ op))) for op in generators]"
   ]
  },
  {
   "cell_type": "code",
   "execution_count": null,
   "metadata": {},
   "outputs": [],
   "source": [
    "# Refine the generators list in case some are linearly dependent in the subspace\n",
    "generators_indep = [generators[0]]\n",
    "for gen in generators[1:]:\n",
    "    if is_independent(gen, generators_indep):\n",
    "        generators_indep.append(gen)\n",
    "print(f'{len(generators_indep)} generators are independent')"
   ]
  },
  {
   "cell_type": "code",
   "execution_count": null,
   "metadata": {},
   "outputs": [],
   "source": [
    "# Compute the DLA of the subspace\n",
    "dla = generate_dla(generators_indep, verbosity=2)\n",
    "print(f'Subspace DLA dimension is {len(dla)}')"
   ]
  },
  {
   "cell_type": "code",
   "execution_count": null,
   "metadata": {},
   "outputs": [],
   "source": [
    "# Compute the DLA of the subspace\n",
    "dladim = count_dla_dim(generators, verbosity=2)\n",
    "print(f'Subspace DLA dimension is {dladim}')"
   ]
  },
  {
   "cell_type": "code",
   "execution_count": 8,
   "metadata": {},
   "outputs": [],
   "source": [
    "with h5py.File(data_file, 'a') as out:\n",
    "    if 'nf=2' not in out:\n",
    "        nf_group = out.create_group('nf=2')\n",
    "        for gname, oplist in [\n",
    "            ('generators_symm0', generators_indep),\n",
    "            ('dla_symm0', dla)\n",
    "        ]:\n",
    "            group = nf_group.create_group(gname)\n",
    "            group.create_dataset('ops', data=np.array(oplist))\n",
    "\n",
    "        nf_group.create_dataset('dla_symm0/gauss_eigvals', data=gauss_eigvals)\n",
    "        nf_group.create_dataset('dla_symm0/charge', data=charge)"
   ]
  },
  {
   "cell_type": "markdown",
   "metadata": {},
   "source": [
    "## 3 Fermions"
   ]
  },
  {
   "cell_type": "code",
   "execution_count": 9,
   "metadata": {},
   "outputs": [],
   "source": [
    "num_fermions = 3\n",
    "# Determine the charge sector (symmetry subspace) to investigate\n",
    "gauss_eigvals = [1, -1, 1, -1, 1, -1]\n",
    "charge = 0"
   ]
  },
  {
   "cell_type": "code",
   "execution_count": null,
   "metadata": {},
   "outputs": [],
   "source": [
    "# Full HVA generators\n",
    "generators_full = z2lgt_hva_generators(num_fermions)\n",
    "generators_full"
   ]
  },
  {
   "cell_type": "code",
   "execution_count": null,
   "metadata": {},
   "outputs": [],
   "source": [
    "# Projector\n",
    "dense_projector = z2lgt_dense_projector(gauss_eigvals, charge)\n",
    "print(f'Hilbert subspace dimension is {dense_projector.shape[0]}')\n",
    "csrs = [SparsePauliOp(op.paulis, op.coeffs).to_matrix(sparse=True) for op in generators_full]\n",
    "generators = [dense_projector @ mat.dot(dense_projector.conjugate().T) for mat in csrs]\n",
    "generators = [op / np.sqrt(np.abs(np.trace(op.conjugate().T @ op))) for op in generators]"
   ]
  },
  {
   "cell_type": "code",
   "execution_count": null,
   "metadata": {},
   "outputs": [],
   "source": [
    "# Refine the generators list in case some are linearly dependent in the subspace\n",
    "generators_indep = [generators[0]]\n",
    "for gen in generators[1:]:\n",
    "    if is_independent(gen, generators_indep):\n",
    "        generators_indep.append(gen)\n",
    "print(f'{len(generators_indep)} generators are independent')"
   ]
  },
  {
   "cell_type": "code",
   "execution_count": null,
   "metadata": {},
   "outputs": [],
   "source": [
    "# Compute the DLA of the subspace\n",
    "dla = generate_dla(generators_indep, verbosity=2)\n",
    "print(f'Subspace DLA dimension is {len(dla)}')"
   ]
  },
  {
   "cell_type": "code",
   "execution_count": null,
   "metadata": {},
   "outputs": [],
   "source": [
    "# Compute the DLA of the subspace\n",
    "dladim = count_dla_dim(generators, verbosity=2)\n",
    "print(f'Subspace DLA dimension is {dladim}')"
   ]
  },
  {
   "cell_type": "code",
   "execution_count": 14,
   "metadata": {},
   "outputs": [],
   "source": [
    "with h5py.File(data_file, 'a') as out:\n",
    "    if 'nf=3' not in out:\n",
    "        nf_group = out.create_group('nf=3')\n",
    "        for gname, oplist in [\n",
    "            ('generators_symm0', generators_indep),\n",
    "            ('dla_symm0', dla)\n",
    "        ]:\n",
    "            group = nf_group.create_group(gname)\n",
    "            group.create_dataset('ops', data=np.array(oplist))\n",
    "\n",
    "        nf_group.create_dataset('dla_symm0/gauss_eigvals', data=gauss_eigvals)\n",
    "        nf_group.create_dataset('dla_symm0/charge', data=charge)"
   ]
  }
 ],
 "metadata": {
  "kernelspec": {
   "display_name": "Python 3 (ipykernel)",
   "language": "python",
   "name": "python3"
  },
  "language_info": {
   "codemirror_mode": {
    "name": "ipython",
    "version": 3
   },
   "file_extension": ".py",
   "mimetype": "text/x-python",
   "name": "python",
   "nbconvert_exporter": "python",
   "pygments_lexer": "ipython3",
   "version": "3.10.12"
  }
 },
 "nbformat": 4,
 "nbformat_minor": 2
}
