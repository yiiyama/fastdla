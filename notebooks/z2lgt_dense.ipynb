{
 "cells": [
  {
   "cell_type": "markdown",
   "metadata": {},
   "source": [
    "# DLA for Z2 lattice gauge theory Hamiltonian variational ansatz (dense implementation)"
   ]
  },
  {
   "cell_type": "code",
   "execution_count": 1,
   "metadata": {},
   "outputs": [],
   "source": [
    "import os\n",
    "os.environ['CUDA_VISIBLE_DEVICES'] = '2'\n",
    "import numpy as np\n",
    "import h5py\n",
    "from qiskit.quantum_info import SparsePauliOp\n",
    "from fastdla.dla_dense import generate_dla, is_independent\n",
    "from fastdla.ansatze.z2lgt_hva import z2lgt_hva_generators, z2lgt_dense_projector\n",
    "import jax\n",
    "jax.config.update('jax_enable_x64', True)\n",
    "import jax.numpy as jnp\n"
   ]
  },
  {
   "cell_type": "code",
   "execution_count": 2,
   "metadata": {},
   "outputs": [],
   "source": [
    "data_file = 'z2lgt_hva_dla_dense.h5'"
   ]
  },
  {
   "cell_type": "markdown",
   "metadata": {},
   "source": [
    "## 2 Fermions"
   ]
  },
  {
   "cell_type": "code",
   "execution_count": 3,
   "metadata": {},
   "outputs": [],
   "source": [
    "num_fermions = 2\n",
    "# Determine the charge sector (symmetry subspace) to investigate\n",
    "gauss_eigvals = [1, -1, 1, -1]\n",
    "charge = 0"
   ]
  },
  {
   "cell_type": "code",
   "execution_count": 4,
   "metadata": {},
   "outputs": [
    {
     "data": {
      "text/plain": [
       "[SparsePauliVector(['IIIIIIIZ', 'IIIZIIII'], array([0.70710678+0.j, 0.70710678+0.j])),\n",
       " SparsePauliVector(['IIIIIZII', 'IZIIIIII'], array([0.70710678+0.j, 0.70710678+0.j])),\n",
       " SparsePauliVector(['IIIIIIXI', 'IIIIXIII', 'IIXIIIII', 'XIIIIIII'], array([0.5+0.j, 0.5+0.j, 0.5+0.j, 0.5+0.j])),\n",
       " SparsePauliVector(['IIIIIXZX', 'IIIIIYZY', 'IXZXIIII', 'IYZYIIII'], array([0.5+0.j, 0.5+0.j, 0.5+0.j, 0.5+0.j])),\n",
       " SparsePauliVector(['IIIXZXII', 'IIIYZYII', 'ZXIIIIIX', 'ZYIIIIIY'], array([0.5+0.j, 0.5+0.j, 0.5+0.j, 0.5+0.j]))]"
      ]
     },
     "execution_count": 4,
     "metadata": {},
     "output_type": "execute_result"
    }
   ],
   "source": [
    "# Full HVA generators\n",
    "generators_full = z2lgt_hva_generators(num_fermions)\n",
    "generators_full\n"
   ]
  },
  {
   "cell_type": "code",
   "execution_count": 5,
   "metadata": {},
   "outputs": [
    {
     "name": "stdout",
     "output_type": "stream",
     "text": [
      "Hilbert subspace dimension is 12\n"
     ]
    }
   ],
   "source": [
    "# Projector\n",
    "dense_projector = z2lgt_dense_projector(gauss_eigvals, charge, npmod=jnp)\n",
    "print(f'Hilbert subspace dimension is {dense_projector.shape[0]}')\n",
    "csrs = [SparsePauliOp(op.paulis, op.coeffs).to_matrix(sparse=True) for op in generators_full]\n",
    "generators = [dense_projector @ mat.dot(dense_projector.conjugate().T) for mat in csrs]\n",
    "generators = [op / np.sqrt(np.abs(np.trace(op.conjugate().T @ op))) for op in generators]"
   ]
  },
  {
   "cell_type": "code",
   "execution_count": 6,
   "metadata": {},
   "outputs": [
    {
     "name": "stdout",
     "output_type": "stream",
     "text": [
      "4 generators are independent\n"
     ]
    }
   ],
   "source": [
    "# Refine the generators list in case some are linearly dependent in the subspace\n",
    "generators_indep = [generators[0]]\n",
    "for gen in generators[1:]:\n",
    "    if is_independent(gen, generators_indep):\n",
    "        generators_indep.append(gen)\n",
    "print(f'{len(generators_indep)} generators are independent')"
   ]
  },
  {
   "cell_type": "code",
   "execution_count": 7,
   "metadata": {},
   "outputs": [
    {
     "name": "stdout",
     "output_type": "stream",
     "text": [
      "Basis size 64; 2000th commutator [b[62], b[47]]\n",
      "Found 60 new ops in 1.19s\n",
      "Subspace DLA dimension is 64\n"
     ]
    }
   ],
   "source": [
    "# Compute the DLA of the subspace\n",
    "dla = generate_dla(generators_indep, verbosity=2)\n",
    "print(f'Subspace DLA dimension is {len(dla)}')"
   ]
  },
  {
   "cell_type": "code",
   "execution_count": 8,
   "metadata": {},
   "outputs": [],
   "source": [
    "with h5py.File(data_file, 'a') as out:\n",
    "    if 'nf=2' not in out:\n",
    "        nf_group = out.create_group('nf=2')\n",
    "        for gname, oplist in [\n",
    "            ('generators_symm0', generators_indep),\n",
    "            ('dla_symm0', dla)\n",
    "        ]:\n",
    "            group = nf_group.create_group(gname)\n",
    "            group.create_dataset('ops', data=np.array(oplist))\n",
    "\n",
    "        nf_group.create_dataset('dla_symm0/gauss_eigvals', data=gauss_eigvals)\n",
    "        nf_group.create_dataset('dla_symm0/charge', data=charge)"
   ]
  },
  {
   "cell_type": "markdown",
   "metadata": {},
   "source": [
    "## 3 Fermions"
   ]
  },
  {
   "cell_type": "code",
   "execution_count": 9,
   "metadata": {},
   "outputs": [],
   "source": [
    "num_fermions = 3\n",
    "# Determine the charge sector (symmetry subspace) to investigate\n",
    "gauss_eigvals = [1, -1, 1, -1, 1, -1]\n",
    "charge = 0"
   ]
  },
  {
   "cell_type": "code",
   "execution_count": 10,
   "metadata": {},
   "outputs": [
    {
     "data": {
      "text/plain": [
       "[SparsePauliVector(['IIIIIIIIIIIZ', 'IIIIIIIZIIII', 'IIIZIIIIIIII'], array([0.57735027+0.j, 0.57735027+0.j, 0.57735027+0.j])),\n",
       " SparsePauliVector(['IIIIIIIIIZII', 'IIIIIZIIIIII', 'IZIIIIIIIIII'], array([0.57735027+0.j, 0.57735027+0.j, 0.57735027+0.j])),\n",
       " SparsePauliVector(['IIIIIIIIIIXI', 'IIIIIIIIXIII', 'IIIIIIXIIIII', 'IIIIXIIIIIII', 'IIXIIIIIIIII', 'XIIIIIIIIIII'], array([0.40824829+0.j, 0.40824829+0.j, 0.40824829+0.j, 0.40824829+0.j,\n",
       "        0.40824829+0.j, 0.40824829+0.j])),\n",
       " SparsePauliVector(['IIIIIIIIIXZX', 'IIIIIIIIIYZY', 'IIIIIXZXIIII', 'IIIIIYZYIIII', 'IXZXIIIIIIII', 'IYZYIIIIIIII'], array([0.40824829+0.j, 0.40824829+0.j, 0.40824829+0.j, 0.40824829+0.j,\n",
       "        0.40824829+0.j, 0.40824829+0.j])),\n",
       " SparsePauliVector(['IIIIIIIXZXII', 'IIIIIIIYZYII', 'IIIXZXIIIIII', 'IIIYZYIIIIII', 'ZXIIIIIIIIIX', 'ZYIIIIIIIIIY'], array([0.40824829+0.j, 0.40824829+0.j, 0.40824829+0.j, 0.40824829+0.j,\n",
       "        0.40824829+0.j, 0.40824829+0.j]))]"
      ]
     },
     "execution_count": 10,
     "metadata": {},
     "output_type": "execute_result"
    }
   ],
   "source": [
    "# Full HVA generators\n",
    "generators_full = z2lgt_hva_generators(num_fermions)\n",
    "generators_full"
   ]
  },
  {
   "cell_type": "code",
   "execution_count": 11,
   "metadata": {},
   "outputs": [
    {
     "name": "stdout",
     "output_type": "stream",
     "text": [
      "Hilbert subspace dimension is 40\n"
     ]
    }
   ],
   "source": [
    "# Projector\n",
    "dense_projector = z2lgt_dense_projector(gauss_eigvals, charge)\n",
    "print(f'Hilbert subspace dimension is {dense_projector.shape[0]}')\n",
    "csrs = [SparsePauliOp(op.paulis, op.coeffs).to_matrix(sparse=True) for op in generators_full]\n",
    "generators = [dense_projector @ mat.dot(dense_projector.conjugate().T) for mat in csrs]\n",
    "generators = [op / np.sqrt(np.abs(np.trace(op.conjugate().T @ op))) for op in generators]"
   ]
  },
  {
   "cell_type": "code",
   "execution_count": 12,
   "metadata": {},
   "outputs": [
    {
     "name": "stdout",
     "output_type": "stream",
     "text": [
      "4 generators are independent\n"
     ]
    }
   ],
   "source": [
    "# Refine the generators list in case some are linearly dependent in the subspace\n",
    "generators_indep = [generators[0]]\n",
    "for gen in generators[1:]:\n",
    "    if is_independent(gen, generators_indep):\n",
    "        generators_indep.append(gen)\n",
    "print(f'{len(generators_indep)} generators are independent')"
   ]
  },
  {
   "cell_type": "code",
   "execution_count": 13,
   "metadata": {},
   "outputs": [
    {
     "name": "stdout",
     "output_type": "stream",
     "text": [
      "Found 252 new ops in 1.77s\n",
      "Resizing basis array to 512\n",
      "Basis size 370; 2000th commutator [b[62], b[47]]\n",
      "Basis size 394; 4000th commutator [b[88], b[84]]\n",
      "Basis size 398; 6000th commutator [b[109], b[5]]\n",
      "Basis size 398; 10000th commutator [b[140], b[130]]\n",
      "Basis size 398; 12000th commutator [b[154], b[65]]\n",
      "Basis size 398; 14000th commutator [b[166], b[139]]\n",
      "Basis size 398; 16000th commutator [b[178], b[69]]\n",
      "Basis size 398; 18000th commutator [b[189], b[45]]\n",
      "Basis size 398; 20000th commutator [b[199], b[100]]\n",
      "Basis size 398; 22000th commutator [b[209], b[55]]\n",
      "Basis size 398; 24000th commutator [b[218], b[129]]\n",
      "Basis size 398; 26000th commutator [b[227], b[122]]\n",
      "Basis size 398; 28000th commutator [b[236], b[34]]\n",
      "Basis size 398; 30000th commutator [b[244], b[110]]\n",
      "Basis size 398; 32000th commutator [b[252], b[122]]\n",
      "Basis size 398; 34000th commutator [b[260], b[70]]\n",
      "Basis size 398; 36000th commutator [b[267], b[222]]\n",
      "Basis size 398; 38000th commutator [b[275], b[50]]\n",
      "Basis size 398; 40000th commutator [b[282], b[97]]\n",
      "Basis size 398; 42000th commutator [b[289], b[95]]\n",
      "Basis size 398; 44000th commutator [b[296], b[44]]\n",
      "Basis size 398; 46000th commutator [b[302], b[247]]\n",
      "Basis size 398; 48000th commutator [b[309], b[105]]\n",
      "Basis size 398; 50000th commutator [b[315], b[230]]\n",
      "Basis size 398; 52000th commutator [b[321], b[319]]\n",
      "Basis size 398; 54000th commutator [b[328], b[44]]\n",
      "Basis size 398; 56000th commutator [b[334], b[55]]\n",
      "Basis size 398; 58000th commutator [b[340], b[30]]\n",
      "Basis size 398; 60000th commutator [b[345], b[315]]\n",
      "Basis size 398; 62000th commutator [b[351], b[224]]\n",
      "Basis size 398; 64000th commutator [b[357], b[97]]\n",
      "Basis size 398; 66000th commutator [b[362], b[297]]\n",
      "Basis size 398; 68000th commutator [b[368], b[104]]\n",
      "Basis size 398; 70000th commutator [b[373], b[249]]\n",
      "Basis size 398; 72000th commutator [b[378], b[369]]\n",
      "Basis size 398; 74000th commutator [b[384], b[80]]\n",
      "Basis size 398; 76000th commutator [b[389], b[145]]\n",
      "Basis size 398; 78000th commutator [b[394], b[185]]\n",
      "Found 142 new ops in 19.13s\n",
      "Subspace DLA dimension is 398\n"
     ]
    }
   ],
   "source": [
    "# Compute the DLA of the subspace\n",
    "dla = generate_dla(generators_indep, verbosity=2)\n",
    "print(f'Subspace DLA dimension is {len(dla)}')"
   ]
  },
  {
   "cell_type": "code",
   "execution_count": 14,
   "metadata": {},
   "outputs": [],
   "source": [
    "with h5py.File(data_file, 'a') as out:\n",
    "    if 'nf=3' not in out:\n",
    "        nf_group = out.create_group('nf=3')\n",
    "        for gname, oplist in [\n",
    "            ('generators_symm0', generators_indep),\n",
    "            ('dla_symm0', dla)\n",
    "        ]:\n",
    "            group = nf_group.create_group(gname)\n",
    "            group.create_dataset('ops', data=np.array(oplist))\n",
    "\n",
    "        nf_group.create_dataset('dla_symm0/gauss_eigvals', data=gauss_eigvals)\n",
    "        nf_group.create_dataset('dla_symm0/charge', data=charge)"
   ]
  }
 ],
 "metadata": {
  "kernelspec": {
   "display_name": "Python 3 (ipykernel)",
   "language": "python",
   "name": "python3"
  },
  "language_info": {
   "codemirror_mode": {
    "name": "ipython",
    "version": 3
   },
   "file_extension": ".py",
   "mimetype": "text/x-python",
   "name": "python",
   "nbconvert_exporter": "python",
   "pygments_lexer": "ipython3",
   "version": "3.10.12"
  }
 },
 "nbformat": 4,
 "nbformat_minor": 2
}
