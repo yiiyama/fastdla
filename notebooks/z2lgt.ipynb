{
 "cells": [
  {
   "cell_type": "markdown",
   "metadata": {},
   "source": [
    "# DLA for Z2 lattice gauge theory Hamiltonian variational ansatz (sparse implementation)"
   ]
  },
  {
   "cell_type": "code",
   "execution_count": null,
   "metadata": {},
   "outputs": [],
   "source": [
    "import logging\n",
    "import numpy as np\n",
    "import h5py\n",
    "import jax\n",
    "from fastdla.sparse_pauli_sum import SparsePauliSumArray, SparsePauliSum\n",
    "from fastdla.lie_closure import lie_closure, orthogonalize\n",
    "from fastdla.generators.z2lgt_hva import (z2lgt_hva_generators, z2lgt_gauss_projector,\n",
    "                                          z2lgt_u1_projector, z2lgt_translation_projector,\n",
    "                                          z2lgt_symmetry_eigenspace)\n",
    "\n",
    "logging.basicConfig(level=logging.WARNING)\n",
    "logging.getLogger('fastdla').setLevel(logging.INFO)\n",
    "jax.config.update('jax_enable_x64', True)\n",
    "SparsePauliSum.switch_impl('fast')"
   ]
  },
  {
   "cell_type": "code",
   "execution_count": null,
   "metadata": {},
   "outputs": [],
   "source": [
    "data_file = ''\n",
    "max_workers = 48"
   ]
  },
  {
   "cell_type": "markdown",
   "metadata": {},
   "source": [
    "### Choice of symmetry sector"
   ]
  },
  {
   "cell_type": "code",
   "execution_count": null,
   "metadata": {},
   "outputs": [],
   "source": [
    "num_fermions = 4\n",
    "# Determine the charge sector (symmetry subspace) to investigate\n",
    "gauss_eigvals = [1, -1, 1, -1, 1, -1, 1, -1]\n",
    "u1_total_charge = 0\n",
    "t_jphase = 0"
   ]
  },
  {
   "cell_type": "markdown",
   "metadata": {},
   "source": [
    "### Full list of HVA generators"
   ]
  },
  {
   "cell_type": "code",
   "execution_count": null,
   "metadata": {},
   "outputs": [],
   "source": [
    "generators_full = z2lgt_hva_generators(num_fermions)\n",
    "generators_full"
   ]
  },
  {
   "cell_type": "markdown",
   "metadata": {},
   "source": [
    "### Using SparsePauliSums"
   ]
  },
  {
   "cell_type": "code",
   "execution_count": null,
   "metadata": {},
   "outputs": [],
   "source": [
    "# Compute the DLA of the full space\n",
    "dla_full = lie_closure(generators_full, min_tasks=200, max_workers=max_workers)\n",
    "print(f'DLA dimension is {len(dla_full)}')"
   ]
  },
  {
   "cell_type": "code",
   "execution_count": null,
   "metadata": {},
   "outputs": [],
   "source": [
    "# Projectors\n",
    "gauss_projector = z2lgt_gauss_projector(gauss_eigvals)\n",
    "u1_projector = z2lgt_u1_projector(num_fermions, u1_total_charge)\n",
    "t_projector = z2lgt_translation_projector(num_fermions, t_jphase)\n",
    "symm_projector = gauss_projector @ u1_projector @ t_projector\n",
    "# HVA generators and symmetry generators are simultaneously diagonalizable\n",
    "# -> HVA generators can be projected onto the symmetry subspace by one-side application of the\n",
    "# projectors. The resulting operators are the HVA generators in the subspace.\n",
    "generators_symm = SparsePauliSumArray([(op @ symm_projector).normalize() for op in generators_full])"
   ]
  },
  {
   "cell_type": "code",
   "execution_count": null,
   "metadata": {},
   "outputs": [],
   "source": [
    "# Refine the generators list in case some are linearly dependent in the subspace\n",
    "basis = SparsePauliSumArray([generators_symm[0]])\n",
    "for gen in generators_symm[1:]:\n",
    "    orth = orthogonalize(gen, basis)\n",
    "    if orth.num_terms != 0:\n",
    "        basis.append(orth.normalize())\n",
    "print(f'{len(basis)} generators are independent')"
   ]
  },
  {
   "cell_type": "code",
   "execution_count": null,
   "metadata": {},
   "outputs": [],
   "source": [
    "# Compute the DLA of the subspace\n",
    "dla = lie_closure(basis, min_tasks=200, max_workers=max_workers)\n",
    "print(f'Subspace DLA dimension is {len(dla)}')"
   ]
  },
  {
   "cell_type": "markdown",
   "metadata": {},
   "source": [
    "### Using matrices"
   ]
  },
  {
   "cell_type": "code",
   "execution_count": null,
   "metadata": {},
   "outputs": [],
   "source": [
    "generators_csr = [gen.to_matrix(sparse=True) for gen in generators_full]\n",
    "symm_eigenspace = z2lgt_symmetry_eigenspace(gauss_eigvals, u1_total_charge, t_jphase)\n",
    "generators_reduced = np.array([symm_eigenspace.conjugate().T @ gen.dot(symm_eigenspace)\n",
    "                               for gen in generators_csr])\n",
    "normsq = np.einsum('gij,gji->g', generators_reduced.conjugate(), generators_reduced)\n",
    "normsq /= generators_reduced.shape[-1]\n",
    "norm = np.sqrt(normsq)\n",
    "generators_reduced /= norm[:, None, None]"
   ]
  },
  {
   "cell_type": "code",
   "execution_count": null,
   "metadata": {},
   "outputs": [],
   "source": [
    "# Refine the generators list in case some are linearly dependent in the subspace\n",
    "basis = np.array([generators_reduced[0]])\n",
    "for igen, gen in enumerate(generators_reduced[1:]):\n",
    "    orth = orthogonalize(gen, basis)\n",
    "    norm = np.sqrt(np.trace(orth.conjugate().T @ orth) / orth.shape[0])\n",
    "    if not np.isclose(norm, 0.):\n",
    "        basis = np.concatenate([basis, orth[None, ...] / norm], axis=0)\n",
    "print(f'{basis.shape[0]} generators are independent')"
   ]
  },
  {
   "cell_type": "code",
   "execution_count": null,
   "metadata": {},
   "outputs": [],
   "source": [
    "# Compute the DLA of the subspace\n",
    "dla_arr = lie_closure(basis)\n",
    "print(f'Subspace DLA dimension is {len(dla_arr)}')"
   ]
  },
  {
   "cell_type": "markdown",
   "metadata": {},
   "source": [
    "### Save the calculation result"
   ]
  },
  {
   "cell_type": "code",
   "execution_count": null,
   "metadata": {},
   "outputs": [],
   "source": [
    "if data_file:\n",
    "    with h5py.File(data_file, 'a') as out:\n",
    "        if f'nf={num_fermions}' not in out:\n",
    "            nf_group = out.create_group(f'nf={num_fermions}')\n",
    "            for gname, oplist in [\n",
    "                ('generators_full', generators_full),\n",
    "                ('dla_full', dla_full),\n",
    "                ('generators_symm', generators_symm),\n",
    "                ('dla_symm', dla)\n",
    "            ]:\n",
    "                group = nf_group.create_group(gname)\n",
    "                group.create_dataset('indices', data=oplist.indices)\n",
    "                group.create_dataset('coeffs', data=oplist.coeffs)\n",
    "                group.create_dataset('indptr', data=oplist.ptrs)\n",
    "\n",
    "            nf_group.create_dataset('dla_symm/gauss_eigvals', data=gauss_eigvals)\n",
    "            nf_group.create_dataset('dla_symm/u1_total_charge', data=u1_total_charge)\n",
    "            nf_group.create_dataset('dla_symm/t_jphase', data=t_jphase)"
   ]
  }
 ],
 "metadata": {
  "kernelspec": {
   "display_name": "Python 3 (ipykernel)",
   "language": "python",
   "name": "python3"
  },
  "language_info": {
   "codemirror_mode": {
    "name": "ipython",
    "version": 3
   },
   "file_extension": ".py",
   "mimetype": "text/x-python",
   "name": "python",
   "nbconvert_exporter": "python",
   "pygments_lexer": "ipython3",
   "version": "3.10.12"
  }
 },
 "nbformat": 4,
 "nbformat_minor": 2
}
