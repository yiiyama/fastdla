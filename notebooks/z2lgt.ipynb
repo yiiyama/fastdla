{
 "cells": [
  {
   "cell_type": "markdown",
   "metadata": {},
   "source": [
    "# DLA for Z2 lattice gauge theory Hamiltonian variational ansatz (sparse implementation)"
   ]
  },
  {
   "cell_type": "code",
   "execution_count": null,
   "metadata": {},
   "outputs": [],
   "source": [
    "import numpy as np\n",
    "import h5py\n",
    "import jax\n",
    "from fastdla.sparse_pauli_vector import SparsePauliVectorArray, SparsePauliVector\n",
    "from fastdla.lie_closure import lie_closure, linear_independence\n",
    "from fastdla.generators.z2lgt_hva import (z2lgt_hva_generators, z2lgt_gauss_projector,\n",
    "                                          z2lgt_u1_projector, z2lgt_translation_projector,\n",
    "                                          z2lgt_symmetry_eigenspace)\n",
    "\n",
    "jax.config.update('jax_enable_x64', True)\n",
    "SparsePauliVector.switch_impl('fast')"
   ]
  },
  {
   "cell_type": "code",
   "execution_count": null,
   "metadata": {},
   "outputs": [],
   "source": [
    "data_file = ''\n",
    "max_workers = 110"
   ]
  },
  {
   "cell_type": "markdown",
   "metadata": {},
   "source": [
    "## 2 Fermions"
   ]
  },
  {
   "cell_type": "code",
   "execution_count": 3,
   "metadata": {},
   "outputs": [],
   "source": [
    "num_fermions = 2\n",
    "# Determine the charge sector (symmetry subspace) to investigate\n",
    "gauss_eigvals = [1, -1, 1, -1]\n",
    "u1_total_charge = 0\n",
    "t_jphase = 0"
   ]
  },
  {
   "cell_type": "code",
   "execution_count": 4,
   "metadata": {},
   "outputs": [
    {
     "data": {
      "text/plain": [
       "SparsePauliVectorArray(5 vectors, num_qubits=8)"
      ]
     },
     "execution_count": 4,
     "metadata": {},
     "output_type": "execute_result"
    }
   ],
   "source": [
    "# Full HVA generators\n",
    "generators_full = z2lgt_hva_generators(num_fermions)\n",
    "generators_full"
   ]
  },
  {
   "cell_type": "markdown",
   "metadata": {},
   "source": [
    "### Using SparsePauliVectors"
   ]
  },
  {
   "cell_type": "code",
   "execution_count": 5,
   "metadata": {},
   "outputs": [
    {
     "name": "stdout",
     "output_type": "stream",
     "text": [
      "Starting with 10 commutators..\n",
      "Evaluating 10/10 commutators for independence\n",
      "Adding 35 commutators; total 35\n",
      "Current DLA dimension: 10\n",
      "Evaluating 35/35 commutators for independence\n",
      "Adding 280 commutators; total 280\n",
      "Current DLA dimension: 26\n",
      "Evaluating 259/280 commutators for independence\n",
      "Adding 7178 commutators; total 7199\n",
      "Current DLA dimension: 123\n",
      "Evaluating 3578/7199 commutators for independence\n",
      "Adding 40702 commutators; total 44323\n",
      "Current DLA dimension: 311\n",
      "Evaluating 43609/44323 commutators for independence\n",
      "Current DLA dimension: 311\n",
      "Evaluating 714/714 commutators for independence\n",
      "Current DLA dimension: 311\n",
      "DLA dimension is 311\n"
     ]
    }
   ],
   "source": [
    "# Compute the DLA of the full space\n",
    "dla_full = lie_closure(generators_full, min_tasks=200, max_workers=max_workers, verbosity=2)\n",
    "print(f'DLA dimension is {len(dla_full)}')"
   ]
  },
  {
   "cell_type": "code",
   "execution_count": 6,
   "metadata": {},
   "outputs": [],
   "source": [
    "# Projectors\n",
    "gauss_projector = z2lgt_gauss_projector(gauss_eigvals)\n",
    "u1_projector = z2lgt_u1_projector(num_fermions, u1_total_charge)\n",
    "t_projector = z2lgt_translation_projector(num_fermions, t_jphase)\n",
    "symm_projector = gauss_projector @ u1_projector @ t_projector\n",
    "# HVA generators and symmetry generators are simultaneously diagonalizable\n",
    "# -> HVA generators can be projected onto the symmetry subspace by one-side application of the\n",
    "# projectors. The resulting operators are the HVA generators in the subspace.\n",
    "generators_projected = SparsePauliVectorArray([(op @ symm_projector).normalize() for op in generators_full])"
   ]
  },
  {
   "cell_type": "code",
   "execution_count": 7,
   "metadata": {},
   "outputs": [
    {
     "name": "stdout",
     "output_type": "stream",
     "text": [
      "4 generators are independent\n"
     ]
    }
   ],
   "source": [
    "# Refine the generators list in case some are linearly dependent in the subspace\n",
    "generators_indep = SparsePauliVectorArray([generators_projected[0]])\n",
    "for gen in generators_projected[1:]:\n",
    "    if linear_independence(gen, generators_indep):\n",
    "        generators_indep.append(gen)\n",
    "print(f'{len(generators_indep)} generators are independent')"
   ]
  },
  {
   "cell_type": "code",
   "execution_count": 8,
   "metadata": {},
   "outputs": [
    {
     "name": "stdout",
     "output_type": "stream",
     "text": [
      "Starting with 6 commutators..\n",
      "Evaluating 6/6 commutators for independence\n",
      "Adding 30 commutators; total 30\n",
      "Current DLA dimension: 9\n",
      "Evaluating 30/30 commutators for independence\n",
      "Adding 264 commutators; total 264\n",
      "Current DLA dimension: 25\n",
      "Evaluating 262/264 commutators for independence\n",
      "Adding 1470 commutators; total 1472\n",
      "Current DLA dimension: 60\n",
      "Evaluating 1234/1472 commutators for independence\n",
      "Adding 183 commutators; total 421\n",
      "Current DLA dimension: 63\n",
      "Evaluating 238/421 commutators for independence\n",
      "Current DLA dimension: 63\n",
      "Evaluating 183/183 commutators for independence\n",
      "Current DLA dimension: 63\n",
      "Subspace DLA dimension is 63\n"
     ]
    }
   ],
   "source": [
    "# Compute the DLA of the subspace\n",
    "dla = lie_closure(generators_indep, min_tasks=200, max_workers=max_workers, verbosity=2)\n",
    "print(f'Subspace DLA dimension is {len(dla)}')"
   ]
  },
  {
   "cell_type": "markdown",
   "metadata": {},
   "source": [
    "### Using matrices"
   ]
  },
  {
   "cell_type": "code",
   "execution_count": 9,
   "metadata": {},
   "outputs": [],
   "source": [
    "generators_csr = [gen.to_matrix(sparse=True) for gen in generators_full]\n",
    "symm_eigenspace = z2lgt_symmetry_eigenspace(gauss_eigvals, u1_total_charge, t_jphase)\n",
    "generators_reduced = np.array([symm_eigenspace.conjugate().T @ gen.dot(symm_eigenspace)\n",
    "                               for gen in generators_csr])"
   ]
  },
  {
   "cell_type": "code",
   "execution_count": 10,
   "metadata": {},
   "outputs": [
    {
     "name": "stdout",
     "output_type": "stream",
     "text": [
      "4 generators are independent\n"
     ]
    }
   ],
   "source": [
    "# Refine the generators list in case some are linearly dependent in the subspace\n",
    "indep_indices = [0]\n",
    "for igen, gen in enumerate(generators_reduced[1:]):\n",
    "    if linear_independence(gen, generators_reduced[indep_indices]):\n",
    "        indep_indices.append(igen + 1)\n",
    "generators_mat_indep = generators_reduced[indep_indices]\n",
    "print(f'{len(indep_indices)} generators are independent')"
   ]
  },
  {
   "cell_type": "code",
   "execution_count": 11,
   "metadata": {},
   "outputs": [
    {
     "name": "stdout",
     "output_type": "stream",
     "text": [
      "Basis size 63; 2000th commutator [b[62], b[47]]\n",
      "Found 59 new ops in 1.52s\n",
      "Subspace DLA dimension is 63\n"
     ]
    }
   ],
   "source": [
    "# Compute the DLA of the subspace\n",
    "dla_arr = lie_closure(generators_mat_indep, verbosity=2)\n",
    "print(f'Subspace DLA dimension is {len(dla_arr)}')"
   ]
  },
  {
   "cell_type": "code",
   "execution_count": 12,
   "metadata": {},
   "outputs": [
    {
     "name": "stdout",
     "output_type": "stream",
     "text": [
      "Basis size 63; 2000th commutator [b[62], b[47]]\n",
      "Found 59 new ops in 0.56s\n",
      "Subspace DLA dimension is 63\n"
     ]
    }
   ],
   "source": [
    "# Compute the DLA dimension of the subspace\n",
    "dla_dimonly = lie_closure(generators_mat_indep, keep_original=False, verbosity=2)\n",
    "print(f'Subspace DLA dimension is {len(dla_dimonly)}')"
   ]
  },
  {
   "cell_type": "code",
   "execution_count": 13,
   "metadata": {},
   "outputs": [],
   "source": [
    "if data_file:\n",
    "    with h5py.File(data_file, 'a') as out:\n",
    "        if 'nf=2' not in out:\n",
    "            nf_group = out.create_group('nf=2')\n",
    "            for gname, oplist in [\n",
    "                ('generators_full', generators_full),\n",
    "                ('dla_full', dla_full),\n",
    "                ('generators_symm0', generators_indep),\n",
    "                ('dla_symm0', dla)\n",
    "            ]:\n",
    "                group = nf_group.create_group(gname)\n",
    "                group.create_dataset('indices', data=oplist.indices)\n",
    "                group.create_dataset('coeffs', data=oplist.coeffs)\n",
    "                group.create_dataset('indptr', data=oplist.ptrs)\n",
    "\n",
    "            nf_group.create_dataset('dla_symm0/gauss_eigvals', data=gauss_eigvals)\n",
    "            nf_group.create_dataset('dla_symm0/u1_total_charge', data=u1_total_charge)\n",
    "            nf_group.create_dataset('dla_symm0/t_jphase', data=t_jphase)"
   ]
  },
  {
   "cell_type": "markdown",
   "metadata": {},
   "source": [
    "## 3 Fermions"
   ]
  },
  {
   "cell_type": "code",
   "execution_count": 14,
   "metadata": {},
   "outputs": [],
   "source": [
    "num_fermions = 3\n",
    "# Determine the charge sector (symmetry subspace) to investigate\n",
    "gauss_eigvals = [1, -1, 1, -1, 1, -1]\n",
    "u1_total_charge = 0\n",
    "t_jphase = 0"
   ]
  },
  {
   "cell_type": "code",
   "execution_count": 15,
   "metadata": {},
   "outputs": [
    {
     "data": {
      "text/plain": [
       "SparsePauliVectorArray(5 vectors, num_qubits=12)"
      ]
     },
     "execution_count": 15,
     "metadata": {},
     "output_type": "execute_result"
    }
   ],
   "source": [
    "# Full HVA generators\n",
    "generators_full = z2lgt_hva_generators(num_fermions)\n",
    "generators_full"
   ]
  },
  {
   "cell_type": "markdown",
   "metadata": {},
   "source": [
    "### Using SparsePauliVectors"
   ]
  },
  {
   "cell_type": "code",
   "execution_count": 16,
   "metadata": {},
   "outputs": [],
   "source": [
    "# Compute the DLA of the full space (takes too long)\n",
    "# dla_full = lie_closure(generators_full, min_tasks=200, max_workers=max_workers, verbosity=2)\n",
    "# print(f'DLA dimension is {len(dla_full)}')"
   ]
  },
  {
   "cell_type": "code",
   "execution_count": 17,
   "metadata": {},
   "outputs": [],
   "source": [
    "# Projectors\n",
    "gauss_projector = z2lgt_gauss_projector(gauss_eigvals)\n",
    "u1_projector = z2lgt_u1_projector(num_fermions, u1_total_charge)\n",
    "t_projector = z2lgt_translation_projector(num_fermions, t_jphase)\n",
    "symm_projector = gauss_projector @ u1_projector @ t_projector\n",
    "# HVA generators and symmetry generators are simultaneously diagonalizable\n",
    "# -> HVA generators can be projected onto the symmetry subspace by one-side application of the\n",
    "# projectors. The resulting operators are the HVA generators in the subspace.\n",
    "generators_projected = SparsePauliVectorArray([(op @ symm_projector).normalize() for op in generators_full])"
   ]
  },
  {
   "cell_type": "code",
   "execution_count": 18,
   "metadata": {},
   "outputs": [
    {
     "name": "stdout",
     "output_type": "stream",
     "text": [
      "4 generators are independent\n"
     ]
    }
   ],
   "source": [
    "# Refine the generators list in case some are linearly dependent in the subspace\n",
    "generators_indep = SparsePauliVectorArray([generators_projected[0]])\n",
    "for gen in generators_projected[1:]:\n",
    "    if linear_independence(gen, generators_indep):\n",
    "        generators_indep.append(gen)\n",
    "print(f'{len(generators_indep)} generators are independent')"
   ]
  },
  {
   "cell_type": "code",
   "execution_count": 19,
   "metadata": {},
   "outputs": [
    {
     "name": "stdout",
     "output_type": "stream",
     "text": [
      "Starting with 6 commutators..\n",
      "Evaluating 6/6 commutators for independence\n",
      "Adding 30 commutators; total 30\n",
      "Current DLA dimension: 9\n",
      "Evaluating 30/30 commutators for independence\n",
      "Adding 264 commutators; total 264\n",
      "Current DLA dimension: 25\n",
      "Evaluating 203/264 commutators for independence\n",
      "Adding 6141 commutators; total 6202\n",
      "Current DLA dimension: 114\n",
      "Evaluating 201/6202 commutators for independence\n",
      "Adding 11704 commutators; total 17705\n",
      "Current DLA dimension: 191\n",
      "Evaluating 201/17705 commutators for independence\n",
      "Adding 9821 commutators; total 27325\n",
      "Current DLA dimension: 237\n",
      "Evaluating 204/27325 commutators for independence\n",
      "Adding 2415 commutators; total 29536\n",
      "Current DLA dimension: 247\n",
      "Evaluating 201/29536 commutators for independence\n",
      "Adding 994 commutators; total 30329\n",
      "Current DLA dimension: 251\n",
      "Evaluating 202/30329 commutators for independence\n",
      "Adding 503 commutators; total 30630\n",
      "Current DLA dimension: 253\n",
      "Evaluating 201/30630 commutators for independence\n",
      "Adding 253 commutators; total 30682\n",
      "Current DLA dimension: 254\n",
      "Evaluating 201/30682 commutators for independence\n",
      "Current DLA dimension: 254\n",
      "Evaluating 201/30481 commutators for independence\n",
      "Adding 254 commutators; total 30534\n",
      "Current DLA dimension: 255\n",
      "Evaluating 202/30534 commutators for independence\n",
      "Current DLA dimension: 255\n",
      "Evaluating 202/30332 commutators for independence\n",
      "Current DLA dimension: 255\n",
      "Evaluating 204/30130 commutators for independence\n",
      "Current DLA dimension: 255\n",
      "Evaluating 203/29926 commutators for independence\n",
      "Current DLA dimension: 255\n",
      "Evaluating 203/29723 commutators for independence\n",
      "Current DLA dimension: 255\n",
      "Evaluating 204/29520 commutators for independence\n",
      "Current DLA dimension: 255\n",
      "Evaluating 201/29316 commutators for independence\n",
      "Current DLA dimension: 255\n",
      "Evaluating 201/29115 commutators for independence\n",
      "Current DLA dimension: 255\n",
      "Evaluating 204/28914 commutators for independence\n",
      "Current DLA dimension: 255\n",
      "Evaluating 204/28710 commutators for independence\n",
      "Current DLA dimension: 255\n",
      "Evaluating 202/28506 commutators for independence\n",
      "Current DLA dimension: 255\n",
      "Evaluating 204/28304 commutators for independence\n",
      "Current DLA dimension: 255\n",
      "Evaluating 202/28100 commutators for independence\n",
      "Current DLA dimension: 255\n",
      "Evaluating 202/27898 commutators for independence\n",
      "Current DLA dimension: 255\n",
      "Evaluating 203/27696 commutators for independence\n",
      "Current DLA dimension: 255\n",
      "Evaluating 202/27493 commutators for independence\n",
      "Current DLA dimension: 255\n",
      "Evaluating 202/27291 commutators for independence\n",
      "Current DLA dimension: 255\n",
      "Evaluating 204/27089 commutators for independence\n",
      "Current DLA dimension: 255\n",
      "Evaluating 201/26885 commutators for independence\n",
      "Current DLA dimension: 255\n",
      "Evaluating 201/26684 commutators for independence\n",
      "Current DLA dimension: 255\n",
      "Evaluating 202/26483 commutators for independence\n",
      "Current DLA dimension: 255\n",
      "Evaluating 201/26281 commutators for independence\n",
      "Current DLA dimension: 255\n",
      "Evaluating 207/26080 commutators for independence\n",
      "Current DLA dimension: 255\n",
      "Evaluating 201/25873 commutators for independence\n",
      "Current DLA dimension: 255\n",
      "Evaluating 202/25672 commutators for independence\n",
      "Current DLA dimension: 255\n",
      "Evaluating 202/25470 commutators for independence\n",
      "Current DLA dimension: 255\n",
      "Evaluating 205/25268 commutators for independence\n",
      "Current DLA dimension: 255\n",
      "Evaluating 201/25063 commutators for independence\n",
      "Current DLA dimension: 255\n",
      "Evaluating 205/24862 commutators for independence\n",
      "Current DLA dimension: 255\n",
      "Evaluating 202/24657 commutators for independence\n",
      "Current DLA dimension: 255\n",
      "Evaluating 203/24455 commutators for independence\n",
      "Current DLA dimension: 255\n",
      "Evaluating 201/24252 commutators for independence\n",
      "Current DLA dimension: 255\n",
      "Evaluating 201/24051 commutators for independence\n",
      "Current DLA dimension: 255\n",
      "Evaluating 201/23850 commutators for independence\n",
      "Current DLA dimension: 255\n",
      "Evaluating 202/23649 commutators for independence\n",
      "Current DLA dimension: 255\n",
      "Evaluating 203/23447 commutators for independence\n",
      "Current DLA dimension: 255\n",
      "Evaluating 201/23244 commutators for independence\n",
      "Current DLA dimension: 255\n",
      "Evaluating 202/23043 commutators for independence\n",
      "Current DLA dimension: 255\n",
      "Evaluating 201/22841 commutators for independence\n",
      "Current DLA dimension: 255\n",
      "Evaluating 204/22640 commutators for independence\n",
      "Current DLA dimension: 255\n",
      "Evaluating 203/22436 commutators for independence\n",
      "Current DLA dimension: 255\n",
      "Evaluating 201/22233 commutators for independence\n",
      "Current DLA dimension: 255\n",
      "Evaluating 202/22032 commutators for independence\n",
      "Current DLA dimension: 255\n",
      "Evaluating 201/21830 commutators for independence\n",
      "Current DLA dimension: 255\n",
      "Evaluating 201/21629 commutators for independence\n",
      "Current DLA dimension: 255\n",
      "Evaluating 202/21428 commutators for independence\n",
      "Current DLA dimension: 255\n",
      "Evaluating 201/21226 commutators for independence\n",
      "Current DLA dimension: 255\n",
      "Evaluating 202/21025 commutators for independence\n",
      "Current DLA dimension: 255\n",
      "Evaluating 202/20823 commutators for independence\n",
      "Current DLA dimension: 255\n",
      "Evaluating 203/20621 commutators for independence\n",
      "Current DLA dimension: 255\n",
      "Evaluating 201/20418 commutators for independence\n",
      "Current DLA dimension: 255\n",
      "Evaluating 203/20217 commutators for independence\n",
      "Current DLA dimension: 255\n",
      "Evaluating 201/20014 commutators for independence\n",
      "Current DLA dimension: 255\n",
      "Evaluating 203/19813 commutators for independence\n",
      "Current DLA dimension: 255\n",
      "Evaluating 201/19610 commutators for independence\n",
      "Current DLA dimension: 255\n",
      "Evaluating 207/19409 commutators for independence\n",
      "Current DLA dimension: 255\n",
      "Evaluating 201/19202 commutators for independence\n",
      "Current DLA dimension: 255\n",
      "Evaluating 201/19001 commutators for independence\n",
      "Current DLA dimension: 255\n",
      "Evaluating 201/18800 commutators for independence\n",
      "Current DLA dimension: 255\n",
      "Evaluating 201/18599 commutators for independence\n",
      "Current DLA dimension: 255\n",
      "Evaluating 201/18398 commutators for independence\n",
      "Current DLA dimension: 255\n",
      "Evaluating 202/18197 commutators for independence\n",
      "Current DLA dimension: 255\n",
      "Evaluating 202/17995 commutators for independence\n",
      "Current DLA dimension: 255\n",
      "Evaluating 203/17793 commutators for independence\n",
      "Current DLA dimension: 255\n",
      "Evaluating 202/17590 commutators for independence\n",
      "Current DLA dimension: 255\n",
      "Evaluating 203/17388 commutators for independence\n",
      "Current DLA dimension: 255\n",
      "Evaluating 202/17185 commutators for independence\n",
      "Current DLA dimension: 255\n",
      "Evaluating 203/16983 commutators for independence\n",
      "Current DLA dimension: 255\n",
      "Evaluating 201/16780 commutators for independence\n",
      "Current DLA dimension: 255\n",
      "Evaluating 201/16579 commutators for independence\n",
      "Current DLA dimension: 255\n",
      "Evaluating 203/16378 commutators for independence\n",
      "Current DLA dimension: 255\n",
      "Evaluating 201/16175 commutators for independence\n",
      "Current DLA dimension: 255\n",
      "Evaluating 202/15974 commutators for independence\n",
      "Current DLA dimension: 255\n",
      "Evaluating 202/15772 commutators for independence\n",
      "Current DLA dimension: 255\n",
      "Evaluating 204/15570 commutators for independence\n",
      "Current DLA dimension: 255\n",
      "Evaluating 201/15366 commutators for independence\n",
      "Current DLA dimension: 255\n",
      "Evaluating 202/15165 commutators for independence\n",
      "Current DLA dimension: 255\n",
      "Evaluating 201/14963 commutators for independence\n",
      "Current DLA dimension: 255\n",
      "Evaluating 204/14762 commutators for independence\n",
      "Current DLA dimension: 255\n",
      "Evaluating 203/14558 commutators for independence\n",
      "Current DLA dimension: 255\n",
      "Evaluating 202/14355 commutators for independence\n",
      "Current DLA dimension: 255\n",
      "Evaluating 202/14153 commutators for independence\n",
      "Current DLA dimension: 255\n",
      "Evaluating 201/13951 commutators for independence\n",
      "Current DLA dimension: 255\n",
      "Evaluating 203/13750 commutators for independence\n",
      "Current DLA dimension: 255\n",
      "Evaluating 201/13547 commutators for independence\n",
      "Current DLA dimension: 255\n",
      "Evaluating 201/13346 commutators for independence\n",
      "Current DLA dimension: 255\n",
      "Evaluating 202/13145 commutators for independence\n",
      "Current DLA dimension: 255\n",
      "Evaluating 202/12943 commutators for independence\n",
      "Current DLA dimension: 255\n",
      "Evaluating 201/12741 commutators for independence\n",
      "Current DLA dimension: 255\n",
      "Evaluating 203/12540 commutators for independence\n",
      "Current DLA dimension: 255\n",
      "Evaluating 201/12337 commutators for independence\n",
      "Current DLA dimension: 255\n",
      "Evaluating 202/12136 commutators for independence\n",
      "Current DLA dimension: 255\n",
      "Evaluating 202/11934 commutators for independence\n",
      "Current DLA dimension: 255\n",
      "Evaluating 202/11732 commutators for independence\n",
      "Current DLA dimension: 255\n",
      "Evaluating 204/11530 commutators for independence\n",
      "Current DLA dimension: 255\n",
      "Evaluating 201/11326 commutators for independence\n",
      "Current DLA dimension: 255\n",
      "Evaluating 201/11125 commutators for independence\n",
      "Current DLA dimension: 255\n",
      "Evaluating 201/10924 commutators for independence\n",
      "Current DLA dimension: 255\n",
      "Evaluating 201/10723 commutators for independence\n",
      "Current DLA dimension: 255\n",
      "Evaluating 201/10522 commutators for independence\n",
      "Current DLA dimension: 255\n",
      "Evaluating 202/10321 commutators for independence\n",
      "Current DLA dimension: 255\n",
      "Evaluating 203/10119 commutators for independence\n",
      "Current DLA dimension: 255\n",
      "Evaluating 203/9916 commutators for independence\n",
      "Current DLA dimension: 255\n",
      "Evaluating 202/9713 commutators for independence\n",
      "Current DLA dimension: 255\n",
      "Evaluating 201/9511 commutators for independence\n",
      "Current DLA dimension: 255\n",
      "Evaluating 201/9310 commutators for independence\n",
      "Current DLA dimension: 255\n",
      "Evaluating 201/9109 commutators for independence\n",
      "Current DLA dimension: 255\n",
      "Evaluating 202/8908 commutators for independence\n",
      "Current DLA dimension: 255\n",
      "Evaluating 202/8706 commutators for independence\n",
      "Current DLA dimension: 255\n",
      "Evaluating 203/8504 commutators for independence\n",
      "Current DLA dimension: 255\n",
      "Evaluating 202/8301 commutators for independence\n",
      "Current DLA dimension: 255\n",
      "Evaluating 202/8099 commutators for independence\n",
      "Current DLA dimension: 255\n",
      "Evaluating 201/7897 commutators for independence\n",
      "Current DLA dimension: 255\n",
      "Evaluating 201/7696 commutators for independence\n",
      "Current DLA dimension: 255\n",
      "Evaluating 201/7495 commutators for independence\n",
      "Current DLA dimension: 255\n",
      "Evaluating 201/7294 commutators for independence\n",
      "Current DLA dimension: 255\n",
      "Evaluating 201/7093 commutators for independence\n",
      "Current DLA dimension: 255\n",
      "Evaluating 201/6892 commutators for independence\n",
      "Current DLA dimension: 255\n",
      "Evaluating 201/6691 commutators for independence\n",
      "Current DLA dimension: 255\n",
      "Evaluating 201/6490 commutators for independence\n",
      "Current DLA dimension: 255\n",
      "Evaluating 203/6289 commutators for independence\n",
      "Current DLA dimension: 255\n",
      "Evaluating 202/6086 commutators for independence\n",
      "Current DLA dimension: 255\n",
      "Evaluating 202/5884 commutators for independence\n",
      "Current DLA dimension: 255\n",
      "Evaluating 205/5682 commutators for independence\n",
      "Current DLA dimension: 255\n",
      "Evaluating 201/5477 commutators for independence\n",
      "Current DLA dimension: 255\n",
      "Evaluating 202/5276 commutators for independence\n",
      "Current DLA dimension: 255\n",
      "Evaluating 201/5074 commutators for independence\n",
      "Current DLA dimension: 255\n",
      "Evaluating 201/4873 commutators for independence\n",
      "Current DLA dimension: 255\n",
      "Evaluating 201/4672 commutators for independence\n",
      "Current DLA dimension: 255\n",
      "Evaluating 201/4471 commutators for independence\n",
      "Current DLA dimension: 255\n",
      "Evaluating 201/4270 commutators for independence\n",
      "Current DLA dimension: 255\n",
      "Evaluating 202/4069 commutators for independence\n",
      "Current DLA dimension: 255\n",
      "Evaluating 202/3867 commutators for independence\n",
      "Current DLA dimension: 255\n",
      "Evaluating 201/3665 commutators for independence\n",
      "Current DLA dimension: 255\n",
      "Evaluating 205/3464 commutators for independence\n",
      "Current DLA dimension: 255\n",
      "Evaluating 201/3259 commutators for independence\n",
      "Current DLA dimension: 255\n",
      "Evaluating 203/3058 commutators for independence\n",
      "Current DLA dimension: 255\n",
      "Evaluating 201/2855 commutators for independence\n",
      "Current DLA dimension: 255\n",
      "Evaluating 201/2654 commutators for independence\n",
      "Current DLA dimension: 255\n",
      "Evaluating 201/2453 commutators for independence\n",
      "Current DLA dimension: 255\n",
      "Evaluating 201/2252 commutators for independence\n",
      "Current DLA dimension: 255\n",
      "Evaluating 202/2051 commutators for independence\n",
      "Current DLA dimension: 255\n",
      "Evaluating 201/1849 commutators for independence\n",
      "Current DLA dimension: 255\n",
      "Evaluating 202/1648 commutators for independence\n",
      "Current DLA dimension: 255\n",
      "Evaluating 201/1446 commutators for independence\n",
      "Current DLA dimension: 255\n",
      "Evaluating 201/1245 commutators for independence\n",
      "Current DLA dimension: 255\n",
      "Evaluating 201/1044 commutators for independence\n",
      "Current DLA dimension: 255\n",
      "Evaluating 201/843 commutators for independence\n",
      "Current DLA dimension: 255\n",
      "Evaluating 201/642 commutators for independence\n",
      "Current DLA dimension: 255\n",
      "Evaluating 201/441 commutators for independence\n",
      "Current DLA dimension: 255\n",
      "Evaluating 201/240 commutators for independence\n",
      "Current DLA dimension: 255\n",
      "Evaluating 39/39 commutators for independence\n",
      "Current DLA dimension: 255\n",
      "Subspace DLA dimension is 255\n"
     ]
    }
   ],
   "source": [
    "# Compute the DLA of the subspace\n",
    "dla = lie_closure(generators_indep, min_tasks=200, max_workers=max_workers, verbosity=2)\n",
    "print(f'Subspace DLA dimension is {len(dla)}')"
   ]
  },
  {
   "cell_type": "markdown",
   "metadata": {},
   "source": [
    "### Using matrices"
   ]
  },
  {
   "cell_type": "code",
   "execution_count": 20,
   "metadata": {},
   "outputs": [],
   "source": [
    "generators_csr = [gen.to_matrix(sparse=True) for gen in generators_full]\n",
    "symm_eigenspace = z2lgt_symmetry_eigenspace(gauss_eigvals, u1_total_charge, t_jphase)\n",
    "generators_reduced = np.array([symm_eigenspace.conjugate().T @ gen.dot(symm_eigenspace)\n",
    "                               for gen in generators_csr])"
   ]
  },
  {
   "cell_type": "code",
   "execution_count": 21,
   "metadata": {},
   "outputs": [
    {
     "name": "stdout",
     "output_type": "stream",
     "text": [
      "4 generators are independent\n"
     ]
    }
   ],
   "source": [
    "# Refine the generators list in case some are linearly dependent in the subspace\n",
    "indep_indices = [0]\n",
    "for igen, gen in enumerate(generators_reduced[1:]):\n",
    "    if linear_independence(gen, generators_reduced[indep_indices]):\n",
    "        indep_indices.append(igen + 1)\n",
    "generators_mat_indep = generators_reduced[indep_indices]\n",
    "print(f'{len(indep_indices)} generators are independent')"
   ]
  },
  {
   "cell_type": "code",
   "execution_count": 23,
   "metadata": {},
   "outputs": [
    {
     "name": "stdout",
     "output_type": "stream",
     "text": [
      "Basis size 239; 2000th commutator [b[62], b[47]]\n",
      "Basis size 251; 4000th commutator [b[88], b[84]]\n",
      "Basis size 255; 6000th commutator [b[109], b[5]]\n",
      "Basis size 255; 10000th commutator [b[140], b[130]]\n",
      "Basis size 255; 12000th commutator [b[154], b[65]]\n",
      "Basis size 255; 14000th commutator [b[166], b[139]]\n",
      "Basis size 255; 16000th commutator [b[178], b[69]]\n",
      "Basis size 255; 18000th commutator [b[189], b[45]]\n",
      "Basis size 255; 20000th commutator [b[199], b[100]]\n",
      "Basis size 255; 22000th commutator [b[209], b[55]]\n",
      "Basis size 255; 24000th commutator [b[218], b[129]]\n",
      "Basis size 255; 26000th commutator [b[227], b[122]]\n",
      "Basis size 255; 28000th commutator [b[236], b[34]]\n",
      "Basis size 255; 30000th commutator [b[244], b[110]]\n",
      "Basis size 255; 32000th commutator [b[252], b[122]]\n",
      "Found 251 new ops in 13.04s\n",
      "Subspace DLA dimension is 255\n"
     ]
    }
   ],
   "source": [
    "# Compute the DLA of the subspace\n",
    "dla_arr = lie_closure(generators_mat_indep, verbosity=2)\n",
    "print(f'Subspace DLA dimension is {len(dla_arr)}')"
   ]
  },
  {
   "cell_type": "code",
   "execution_count": 24,
   "metadata": {},
   "outputs": [
    {
     "name": "stdout",
     "output_type": "stream",
     "text": [
      "Basis size 239; 2000th commutator [b[62], b[47]]\n",
      "Basis size 251; 4000th commutator [b[88], b[84]]\n",
      "Basis size 255; 6000th commutator [b[109], b[5]]\n",
      "Basis size 255; 10000th commutator [b[140], b[130]]\n",
      "Basis size 255; 12000th commutator [b[154], b[65]]\n",
      "Basis size 255; 14000th commutator [b[166], b[139]]\n",
      "Basis size 255; 16000th commutator [b[178], b[69]]\n",
      "Basis size 255; 18000th commutator [b[189], b[45]]\n",
      "Basis size 255; 20000th commutator [b[199], b[100]]\n",
      "Basis size 255; 22000th commutator [b[209], b[55]]\n",
      "Basis size 255; 24000th commutator [b[218], b[129]]\n",
      "Basis size 255; 26000th commutator [b[227], b[122]]\n",
      "Basis size 255; 28000th commutator [b[236], b[34]]\n",
      "Basis size 255; 30000th commutator [b[244], b[110]]\n",
      "Basis size 255; 32000th commutator [b[252], b[122]]\n",
      "Found 251 new ops in 6.04s\n",
      "Subspace DLA dimension is 255\n"
     ]
    }
   ],
   "source": [
    "# Compute the DLA dimension of the subspace\n",
    "dla_dimonly = lie_closure(generators_mat_indep, keep_original=False, verbosity=2)\n",
    "print(f'Subspace DLA dimension is {len(dla_dimonly)}')"
   ]
  },
  {
   "cell_type": "code",
   "execution_count": 25,
   "metadata": {},
   "outputs": [],
   "source": [
    "if data_file:\n",
    "    with h5py.File(data_file, 'a') as out:\n",
    "        if 'nf=2' not in out:\n",
    "            nf_group = out.create_group('nf=3')\n",
    "            for gname, oplist in [\n",
    "                ('generators_full', generators_full),\n",
    "                ('dla_full', dla_full),\n",
    "                ('generators_symm0', generators_indep),\n",
    "                ('dla_symm0', dla)\n",
    "            ]:\n",
    "                group = nf_group.create_group(gname)\n",
    "                group.create_dataset('indices', data=oplist.indices)\n",
    "                group.create_dataset('coeffs', data=oplist.coeffs)\n",
    "                group.create_dataset('indptr', data=oplist.ptrs)\n",
    "\n",
    "            nf_group.create_dataset('dla_symm0/gauss_eigvals', data=gauss_eigvals)\n",
    "            nf_group.create_dataset('dla_symm0/u1_total_charge', data=u1_total_charge)\n",
    "            nf_group.create_dataset('dla_symm0/t_jphase', data=t_jphase)"
   ]
  }
 ],
 "metadata": {
  "kernelspec": {
   "display_name": "Python 3 (ipykernel)",
   "language": "python",
   "name": "python3"
  },
  "language_info": {
   "codemirror_mode": {
    "name": "ipython",
    "version": 3
   },
   "file_extension": ".py",
   "mimetype": "text/x-python",
   "name": "python",
   "nbconvert_exporter": "python",
   "pygments_lexer": "ipython3",
   "version": "3.10.12"
  }
 },
 "nbformat": 4,
 "nbformat_minor": 2
}
