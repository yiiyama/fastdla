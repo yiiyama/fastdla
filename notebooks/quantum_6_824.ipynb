{
 "cells": [
  {
   "cell_type": "markdown",
   "id": "ced63724",
   "metadata": {},
   "source": [
    "# Numerical validation of controllability of ansatze in Larocca et al., *Quantum* 6 824 (2022)"
   ]
  },
  {
   "cell_type": "code",
   "execution_count": null,
   "id": "0e45fbfd",
   "metadata": {},
   "outputs": [],
   "source": [
    "import os\n",
    "import logging\n",
    "import numpy as np\n",
    "import h5py\n",
    "import jax\n",
    "import jax.numpy as jnp\n",
    "import matplotlib.pyplot as plt\n",
    "logging.basicConfig(level=logging.INFO)\n",
    "os.environ['CUDA_VISIBLE_DEVICES'] = '0'\n",
    "jax.config.update('jax_enable_x64', True)\n",
    "\n",
    "from fastdla.lie_closure import lie_closure\n",
    "from fastdla.generators.hea import hea_generators\n",
    "from fastdla.generators.spin_glass import spin_glass_generators\n",
    "from fastdla.generators.heisenberg_hva import xxz_hva_generators\n",
    "from fastdla.generators.tfim_hva import tfim_1d_hva_generators\n",
    "from fastdla.generators.spin_chain import magnetization_eigenspace, parity_eigenspace\n",
    "\n",
    "LOG = logging.getLogger('main')"
   ]
  },
  {
   "cell_type": "code",
   "execution_count": null,
   "id": "35c83b6b",
   "metadata": {},
   "outputs": [],
   "source": [
    "data_file = '/data/iiyama/quantum_6.h5'"
   ]
  },
  {
   "cell_type": "code",
   "execution_count": null,
   "id": "91ac135d",
   "metadata": {},
   "outputs": [],
   "source": [
    "if data_file and not os.path.exists(data_file):\n",
    "    with h5py.File(data_file, 'w'):\n",
    "        pass"
   ]
  },
  {
   "cell_type": "markdown",
   "id": "f732b6ce",
   "metadata": {},
   "source": [
    "### Hardware efficient ansatz\n",
    "\n",
    "$$\n",
    "\\mathcal{G}_{\\mathrm{HEA}} = \\left\\{ X_n, Y_n \\right\\}_{n=0}^{N_q-1} \\cup\n",
    "                                     \\left\\{ \\sum_{n=0}^{N_q - 2} Z_n Z_{n+1} \\right\\}\n",
    "$$"
   ]
  },
  {
   "cell_type": "code",
   "execution_count": null,
   "id": "d9da410e",
   "metadata": {},
   "outputs": [],
   "source": [
    "run_calc = True\n",
    "if data_file:\n",
    "    with h5py.File(data_file, 'r') as source:\n",
    "        if 'hea' in source:\n",
    "            run_calc = False\n",
    "            group = source['hea']\n",
    "            nqs = group['num_qubits'][()]\n",
    "            dla_dims = group['dla_dims'][()]\n",
    "\n",
    "if run_calc:\n",
    "    min_nq = 2\n",
    "    max_nq = 4\n",
    "    nqs = np.arange(min_nq, max_nq + 1)\n",
    "    dla_dims = []\n",
    "\n",
    "    for num_qubits in nqs:\n",
    "        LOG.info('num_qubits=%d', num_qubits)\n",
    "        generators = hea_generators(num_qubits=num_qubits).to_matrices()\n",
    "        dla = lie_closure(generators)\n",
    "        dla_dims.append(dla.shape[0])\n",
    "\n",
    "    if data_file:\n",
    "        with h5py.File(data_file, 'a') as out:\n",
    "            if 'hea' not in out:\n",
    "                group = out.create_group('hea')\n",
    "                group.create_dataset('num_qubits', data=nqs)\n",
    "                group.create_dataset('dla_dims', data=dla_dims)"
   ]
  },
  {
   "cell_type": "code",
   "execution_count": null,
   "id": "1611bfdd",
   "metadata": {},
   "outputs": [],
   "source": [
    "x = np.linspace(nqs[0], nqs[-1], 100)\n",
    "plt.plot(x, (2 ** x) ** 2 - 1, label='$(2^{N_q})^2-1$')\n",
    "plt.scatter(nqs, dla_dims, label='DLA dimension')\n",
    "plt.yscale('log')\n",
    "plt.title('Hardware-efficient ansatz')\n",
    "plt.xlabel('$N_q$', fontsize=16)\n",
    "plt.xticks(nqs, labels=[f'{i}' for i in nqs])\n",
    "plt.legend(fontsize=14);"
   ]
  },
  {
   "cell_type": "markdown",
   "id": "9a519afc",
   "metadata": {},
   "source": [
    "### Spin glass\n",
    "\n"
   ]
  },
  {
   "cell_type": "code",
   "execution_count": null,
   "id": "807f86df",
   "metadata": {},
   "outputs": [],
   "source": [
    "run_calc = True\n",
    "if data_file:\n",
    "    with h5py.File(data_file, 'r') as source:\n",
    "        if 'spin_glass' in source:\n",
    "            run_calc = False\n",
    "            group = source['spin_glass']\n",
    "            nqs = group['num_qubits'][()]\n",
    "            dla_dims = group['dla_dims'][()]\n",
    "\n",
    "if run_calc:\n",
    "    min_nq = 3\n",
    "    max_nq = 6\n",
    "    nqs = np.arange(min_nq, max_nq + 1)\n",
    "    dla_dims = []\n",
    "\n",
    "    for num_qubits in nqs:\n",
    "        print(f'num_qubits={num_qubits}')\n",
    "        generators = spin_glass_generators(num_qubits=num_qubits).to_matrices()\n",
    "        dla = lie_closure(generators, keep_original=False)\n",
    "        dla_dims.append(dla.shape[0])\n",
    "\n",
    "    if data_file:\n",
    "        with h5py.File(data_file, 'a') as out:\n",
    "            if 'spin_glass' not in out:\n",
    "                group = out.create_group('spin_glass')\n",
    "                group.create_dataset('num_qubits', data=nqs)\n",
    "                group.create_dataset('dla_dims', data=dla_dims)"
   ]
  },
  {
   "cell_type": "code",
   "execution_count": null,
   "id": "dcf6897e",
   "metadata": {},
   "outputs": [],
   "source": [
    "x = np.linspace(nqs[0], nqs[-1], 100)\n",
    "plt.plot(x, (2 ** x) ** 2 - 1, label='$(2^{N_q})^2-1$')\n",
    "plt.scatter(nqs, dla_dims, label='DLA dimension')\n",
    "plt.yscale('log')\n",
    "plt.title('Spin glass ansatz')\n",
    "plt.xlabel('$N_q$', fontsize=16)\n",
    "plt.xticks(nqs, labels=[f'{i}' for i in nqs])\n",
    "plt.legend(fontsize=14);"
   ]
  },
  {
   "cell_type": "markdown",
   "id": "26d9716f",
   "metadata": {},
   "source": [
    "### $XXZ$ model (subspace controllable)"
   ]
  },
  {
   "cell_type": "code",
   "execution_count": null,
   "id": "c77b0ad6",
   "metadata": {},
   "outputs": [],
   "source": [
    "run_calc = True\n",
    "if data_file:\n",
    "    with h5py.File(data_file, 'r') as source:\n",
    "        if 'xxz' in source:\n",
    "            run_calc = False\n",
    "            group = source['xxz']\n",
    "            nspins = group['num_spins'][()]\n",
    "            subspace_dims = group['subspace_dims'][()]\n",
    "            dla_dims = group['dla_dims'][()]\n",
    "\n",
    "if run_calc:\n",
    "    min_nspin = 4\n",
    "    max_nspin = 10\n",
    "    nspins = np.arange(min_nspin, max_nspin + 1, 2)\n",
    "    parity = 1\n",
    "    subspace_dims = np.zeros((nspins.shape[0], max_nspin // 2 + 1), dtype=int)\n",
    "    dla_dims = np.zeros((nspins.shape[0], max_nspin // 2 + 1), dtype=int)\n",
    "\n",
    "    for ispin, num_qubits in enumerate(nspins):\n",
    "        print(f'num_spins={num_qubits}')\n",
    "        generators = xxz_hva_generators(num_qubits).to_matrices()\n",
    "        parity_subspace = parity_eigenspace(parity, num_spins=num_qubits, npmod=jnp)\n",
    "        for imag, magnetization in enumerate(range(0, num_qubits + 1, 2)):\n",
    "            print(f'magnetization={magnetization}')\n",
    "            subspace = magnetization_eigenspace(magnetization, basis=parity_subspace, npmod=jnp)\n",
    "            generators_reduced = jnp.einsum('ij,gik,kl->gjl', subspace.conjugate(), generators,\n",
    "                                            subspace)\n",
    "            dla = lie_closure(generators_reduced, keep_original=False)\n",
    "            subspace_dims[ispin, imag] = subspace.shape[1]\n",
    "            dla_dims[ispin, imag] = dla.shape[0]\n",
    "\n",
    "    if data_file:\n",
    "        with h5py.File(data_file, 'a') as out:\n",
    "            if 'xxz' not in out:\n",
    "                group = out.create_group('xxz')\n",
    "                group.create_dataset('num_spins', data=nspins)\n",
    "                group.create_dataset('subspace_dims', data=subspace_dims)\n",
    "                group.create_dataset('dla_dims', data=dla_dims)"
   ]
  },
  {
   "cell_type": "code",
   "execution_count": null,
   "id": "8a7d60c2",
   "metadata": {},
   "outputs": [],
   "source": [
    "for imag in range(nspins[-1] // 2 + 1):\n",
    "    magnetization = imag * 2\n",
    "    mask = nspins >= magnetization\n",
    "    plt.plot(nspins[mask], subspace_dims[mask][:, imag], label='Invariant subspace dimension')\n",
    "    plt.scatter(nspins[mask], dla_dims[mask][:, imag], label='DLA dimension')\n",
    "plt.yscale('log')\n",
    "plt.title('XXZ model HVA')\n",
    "plt.xlabel('$N_q$', fontsize=16)\n",
    "plt.xticks(nspins, labels=[f'{i}' for i in nspins])\n",
    "plt.legend(fontsize=14);"
   ]
  },
  {
   "cell_type": "markdown",
   "id": "889ffb07",
   "metadata": {},
   "source": [
    "### $XXZ$ model (subspace uncontrollable)"
   ]
  },
  {
   "cell_type": "code",
   "execution_count": null,
   "id": "9366c7f3",
   "metadata": {},
   "outputs": [],
   "source": [
    "run_calc = True\n",
    "if data_file:\n",
    "    with h5py.File(data_file, 'r') as source:\n",
    "        if 'xxz_u' in source:\n",
    "            run_calc = False\n",
    "            group = source['xxz_u']\n",
    "            nspins = group['num_spins'][()]\n",
    "            subspace_dims = group['subspace_dims'][()]\n",
    "            dla_dims = group['dla_dims'][()]\n",
    "\n",
    "if run_calc:\n",
    "    min_nspin = 4\n",
    "    max_nspin = 10\n",
    "    nspins = np.arange(min_nspin, max_nspin + 1, 2)\n",
    "    parity = 1\n",
    "    magnetization = 0\n",
    "    subspace_dims = np.zeros(nspins.shape[0], dtype=int)\n",
    "    dla_dims = np.zeros(nspins.shape[0], dtype=int)\n",
    "\n",
    "    for ispin, num_qubits in enumerate(nspins):\n",
    "        print(f'num_spins={num_qubits}')\n",
    "        generators = xxz_hva_generators(num_qubits, subspace_controllable=False).to_matrices()\n",
    "        subspace = parity_eigenspace(parity, num_spins=num_qubits, npmod=jnp)\n",
    "        subspace = magnetization_eigenspace(magnetization, basis=subspace, npmod=jnp)\n",
    "        generators_reduced = jnp.einsum('ij,gik,kl->gjl', subspace.conjugate(), generators,\n",
    "                                        subspace)\n",
    "        dla = lie_closure(generators_reduced, keep_original=False)\n",
    "        subspace_dims[ispin] = subspace.shape[1]\n",
    "        dla_dims[ispin] = dla.shape[0]\n",
    "\n",
    "    if data_file:\n",
    "        with h5py.File(data_file, 'a') as out:\n",
    "            if 'xxz_u' not in out:\n",
    "                group = out.create_group('xxz_u')\n",
    "                group.create_dataset('num_spins', data=nspins)\n",
    "                group.create_dataset('subspace_dims', data=subspace_dims)\n",
    "                group.create_dataset('dla_dims', data=dla_dims)"
   ]
  },
  {
   "cell_type": "code",
   "execution_count": null,
   "id": "729767dc",
   "metadata": {},
   "outputs": [],
   "source": [
    "plt.plot(nspins, subspace_dims, label='Invariant subspace dimension')\n",
    "plt.scatter(nspins, dla_dims, label='DLA dimension')\n",
    "plt.yscale('log')\n",
    "plt.title('$XXZ_U$ model HVA')\n",
    "plt.xlabel('$N_q$', fontsize=16)\n",
    "plt.xticks(nspins, labels=[f'{i}' for i in nspins])\n",
    "plt.legend(fontsize=14);"
   ]
  },
  {
   "cell_type": "markdown",
   "id": "beba7ce1",
   "metadata": {},
   "source": [
    "### TFIM HVA"
   ]
  },
  {
   "cell_type": "code",
   "execution_count": null,
   "id": "95697237",
   "metadata": {},
   "outputs": [],
   "source": [
    "run_calc = True\n",
    "if data_file:\n",
    "    with h5py.File(data_file, 'r') as source:\n",
    "        if 'tfim' in source:\n",
    "            run_calc = False\n",
    "            group = source['tfim']\n",
    "            nspins = group['num_spins'][()]\n",
    "            subspace_dims = group['subspace_dims'][()]\n",
    "            dla_dims = group['dla_dims'][()]\n",
    "\n",
    "if run_calc:\n",
    "    min_nspin = 4\n",
    "    max_nspin = 10\n",
    "    nspins = np.arange(min_nspin, max_nspin + 1, 2)\n",
    "    parity = 1\n",
    "    magnetization = 0\n",
    "    subspace_dims = np.zeros(nspins.shape[0], dtype=int)\n",
    "    dla_dims = np.zeros(nspins.shape[0], dtype=int)\n",
    "\n",
    "    for ispin, num_qubits in enumerate(nspins):\n",
    "        print(f'num_spins={num_qubits}')\n",
    "        generators = xxz_hva_generators(num_qubits, subspace_controllable=False).to_matrices()\n",
    "        subspace = parity_eigenspace(parity, num_spins=num_qubits, npmod=jnp)\n",
    "        subspace = magnetization_eigenspace(magnetization, basis=subspace, npmod=jnp)\n",
    "        generators_reduced = jnp.einsum('ij,gik,kl->gjl', subspace.conjugate(), generators,\n",
    "                                        subspace)\n",
    "        dla = lie_closure(generators_reduced, keep_original=False)\n",
    "        subspace_dims[ispin] = subspace.shape[1]\n",
    "        dla_dims[ispin] = dla.shape[0]\n",
    "\n",
    "    if data_file:\n",
    "        with h5py.File(data_file, 'a') as out:\n",
    "            if 'xxz_u' not in out:\n",
    "                group = out.create_group('xxz_u')\n",
    "                group.create_dataset('num_spins', data=nspins)\n",
    "                group.create_dataset('subspace_dims', data=subspace_dims)\n",
    "                group.create_dataset('dla_dims', data=dla_dims)"
   ]
  }
 ],
 "metadata": {
  "kernelspec": {
   "display_name": "Python 3 (ipykernel)",
   "language": "python",
   "name": "python3"
  },
  "language_info": {
   "codemirror_mode": {
    "name": "ipython",
    "version": 3
   },
   "file_extension": ".py",
   "mimetype": "text/x-python",
   "name": "python",
   "nbconvert_exporter": "python",
   "pygments_lexer": "ipython3",
   "version": "3.10.12"
  }
 },
 "nbformat": 4,
 "nbformat_minor": 5
}
