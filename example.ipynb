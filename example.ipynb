{
 "cells": [
  {
   "cell_type": "code",
   "execution_count": 1,
   "metadata": {},
   "outputs": [],
   "source": [
    "%load_ext autoreload\n",
    "%autoreload 1"
   ]
  },
  {
   "cell_type": "code",
   "execution_count": 2,
   "metadata": {},
   "outputs": [],
   "source": [
    "import sys\n",
    "sys.path.append('/home/iiyama/src/fastdla')\n",
    "%aimport fastdla.dla\n",
    "from fastdla.dla import *"
   ]
  },
  {
   "cell_type": "code",
   "execution_count": 3,
   "metadata": {},
   "outputs": [],
   "source": [
    "def z2lgt_hva_generators(num_fermions):\n",
    "    num_qubits = 4 * num_fermions\n",
    "\n",
    "    generators = []\n",
    "\n",
    "    # Mass terms\n",
    "    for parity in [0, 1]:\n",
    "        strings = ['I' * (isite * 2) + 'Z' + 'I' * (num_qubits - isite * 2 - 1)\n",
    "                   for isite in range(parity, 2 * num_fermions, 2)]\n",
    "        coeffs = np.ones(len(strings)) / np.sqrt(len(strings))\n",
    "        generators.append(SparsePauliOp(strings, coeffs))\n",
    "\n",
    "    # Field term\n",
    "    strings = ['I' * iq + 'X' + 'I' * (num_qubits - iq - 1) for iq in range(1, num_qubits, 2)]\n",
    "    coeffs = np.ones(len(strings)) / np.sqrt(len(strings))\n",
    "    generators.append(SparsePauliOp(strings, coeffs))\n",
    "\n",
    "    # Hopping terms\n",
    "    for parity in [0, 1]:\n",
    "        strings = []\n",
    "        for isite in range(parity, 2 * num_fermions, 2):\n",
    "            for site_op in ['X', 'Y']:\n",
    "                paulis = ['I'] * num_qubits\n",
    "                paulis[isite * 2] = site_op\n",
    "                paulis[isite * 2 + 1] = 'Z'\n",
    "                paulis[(isite * 2 + 2) % num_qubits] = site_op\n",
    "                strings.append(''.join(paulis))\n",
    "        coeffs = np.ones(len(strings)) / np.sqrt(len(strings))\n",
    "        generators.append(SparsePauliOp(strings, coeffs))\n",
    "\n",
    "    return generators\n"
   ]
  },
  {
   "cell_type": "code",
   "execution_count": 4,
   "metadata": {},
   "outputs": [],
   "source": [
    "generators = z2lgt_hva_generators(2)"
   ]
  },
  {
   "cell_type": "code",
   "execution_count": null,
   "metadata": {},
   "outputs": [],
   "source": [
    "generators"
   ]
  },
  {
   "cell_type": "code",
   "execution_count": null,
   "metadata": {},
   "outputs": [],
   "source": [
    "full_dla_basis(generators)"
   ]
  },
  {
   "cell_type": "code",
   "execution_count": null,
   "metadata": {},
   "outputs": [],
   "source": []
  }
 ],
 "metadata": {
  "kernelspec": {
   "display_name": "Python 3 (ipykernel)",
   "language": "python",
   "name": "python3"
  },
  "language_info": {
   "codemirror_mode": {
    "name": "ipython",
    "version": 3
   },
   "file_extension": ".py",
   "mimetype": "text/x-python",
   "name": "python",
   "nbconvert_exporter": "python",
   "pygments_lexer": "ipython3",
   "version": "3.10.12"
  }
 },
 "nbformat": 4,
 "nbformat_minor": 2
}
